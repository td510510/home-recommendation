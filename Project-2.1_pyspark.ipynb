{
 "cells": [
  {
   "cell_type": "code",
   "execution_count": 116,
   "id": "31e3ceff",
   "metadata": {},
   "outputs": [],
   "source": [
    "import numpy as np\n",
    "import pandas as pd\n",
    "import matplotlib.pyplot as plt\n",
    "from sklearn.feature_extraction.text import TfidfVectorizer\n",
    "from sklearn.metrics.pairwise import linear_kernel, cosine_similarity\n",
    "from underthesea import word_tokenize, pos_tag, sent_tokenize\n",
    "import warnings\n",
    "from gensim import corpora, models, similarities\n",
    "import re\n",
    "from pyvi.ViTokenizer import tokenize"
   ]
  },
  {
   "cell_type": "code",
   "execution_count": 117,
   "id": "dddd7b73",
   "metadata": {},
   "outputs": [
    {
     "data": {
      "text/html": [
       "<div>\n",
       "<style scoped>\n",
       "    .dataframe tbody tr th:only-of-type {\n",
       "        vertical-align: middle;\n",
       "    }\n",
       "\n",
       "    .dataframe tbody tr th {\n",
       "        vertical-align: top;\n",
       "    }\n",
       "\n",
       "    .dataframe thead th {\n",
       "        text-align: right;\n",
       "    }\n",
       "</style>\n",
       "<table border=\"1\" class=\"dataframe\">\n",
       "  <thead>\n",
       "    <tr style=\"text-align: right;\">\n",
       "      <th></th>\n",
       "      <th>num</th>\n",
       "      <th>Hotel_ID</th>\n",
       "      <th>Hotel_Name</th>\n",
       "      <th>Hotel_Rank</th>\n",
       "      <th>Hotel_Address</th>\n",
       "      <th>Total_Score</th>\n",
       "      <th>Location</th>\n",
       "      <th>Cleanliness</th>\n",
       "      <th>Service</th>\n",
       "      <th>Facilities</th>\n",
       "      <th>Value_for_money</th>\n",
       "      <th>Comfort_and_room_quality</th>\n",
       "      <th>comments_count</th>\n",
       "      <th>Hotel_Description</th>\n",
       "    </tr>\n",
       "  </thead>\n",
       "  <tbody>\n",
       "    <tr>\n",
       "      <th>0</th>\n",
       "      <td>1</td>\n",
       "      <td>1_1</td>\n",
       "      <td>Khách sạn Mường Thanh Luxury Nha Trang (Muong ...</td>\n",
       "      <td>5 sao trên 5</td>\n",
       "      <td>60 Trần Phú, Lộc Thọ, Nha Trang, Việt Nam</td>\n",
       "      <td>8,8</td>\n",
       "      <td>9,4</td>\n",
       "      <td>8,9</td>\n",
       "      <td>8,9</td>\n",
       "      <td>8,7</td>\n",
       "      <td>8,7</td>\n",
       "      <td>8,3</td>\n",
       "      <td>1269</td>\n",
       "      <td>Khách sạn Mường Thanh Luxury Nha Trang - Nơi l...</td>\n",
       "    </tr>\n",
       "    <tr>\n",
       "      <th>1</th>\n",
       "      <td>2</td>\n",
       "      <td>1_2</td>\n",
       "      <td>ALPHA BIRD NHA TRANG</td>\n",
       "      <td>4 sao trên 5</td>\n",
       "      <td>51/19/37 Tue Tinh St, Loc Tho Ward, Nha Trang,...</td>\n",
       "      <td>7,7</td>\n",
       "      <td>7,8</td>\n",
       "      <td>7,6</td>\n",
       "      <td>8,1</td>\n",
       "      <td>7,5</td>\n",
       "      <td>8,1</td>\n",
       "      <td>NaN</td>\n",
       "      <td>337</td>\n",
       "      <td>ALPHA BIRD NHA TRANG - Khách sạn 4.0 sao tại N...</td>\n",
       "    </tr>\n",
       "    <tr>\n",
       "      <th>2</th>\n",
       "      <td>3</td>\n",
       "      <td>1_3</td>\n",
       "      <td>Khách sạn Aaron (Aaron Hotel)</td>\n",
       "      <td>3.5 sao trên 5</td>\n",
       "      <td>6Trần Quang Khải, Lộc Thọ, Nha Trang, Việt Nam...</td>\n",
       "      <td>8,5</td>\n",
       "      <td>8,9</td>\n",
       "      <td>8,7</td>\n",
       "      <td>8,8</td>\n",
       "      <td>8,1</td>\n",
       "      <td>8,5</td>\n",
       "      <td>NaN</td>\n",
       "      <td>300</td>\n",
       "      <td>Khách sạn Aaron - Nơi nghỉ dưỡng tuyệt vời tại...</td>\n",
       "    </tr>\n",
       "    <tr>\n",
       "      <th>3</th>\n",
       "      <td>4</td>\n",
       "      <td>1_4</td>\n",
       "      <td>Panorama Star Beach Nha Trang</td>\n",
       "      <td>5 sao trên 5</td>\n",
       "      <td>02 Nguyen Thi Minh Khai, Lộc Thọ, Nha Trang, V...</td>\n",
       "      <td>8,8</td>\n",
       "      <td>9,6</td>\n",
       "      <td>8,9</td>\n",
       "      <td>8,9</td>\n",
       "      <td>8,7</td>\n",
       "      <td>9,0</td>\n",
       "      <td>NaN</td>\n",
       "      <td>814</td>\n",
       "      <td>Panorama Star Beach Nha Trang - Một kỳ nghỉ tu...</td>\n",
       "    </tr>\n",
       "    <tr>\n",
       "      <th>4</th>\n",
       "      <td>5</td>\n",
       "      <td>1_5</td>\n",
       "      <td>Khách sạn Balcony Nha Trang (Balcony Nha Trang...</td>\n",
       "      <td>4 sao trên 5</td>\n",
       "      <td>98B/13 Trần Phú, Lộc Thọ, Nha Trang, Việt Nam</td>\n",
       "      <td>8,4</td>\n",
       "      <td>8,5</td>\n",
       "      <td>8,7</td>\n",
       "      <td>8,5</td>\n",
       "      <td>8,3</td>\n",
       "      <td>8,6</td>\n",
       "      <td>8,7</td>\n",
       "      <td>294</td>\n",
       "      <td>Khách sạn Balcony Nha Trang - Nơi nghỉ dưỡng t...</td>\n",
       "    </tr>\n",
       "  </tbody>\n",
       "</table>\n",
       "</div>"
      ],
      "text/plain": [
       "   num Hotel_ID                                         Hotel_Name  \\\n",
       "0    1      1_1  Khách sạn Mường Thanh Luxury Nha Trang (Muong ...   \n",
       "1    2      1_2                               ALPHA BIRD NHA TRANG   \n",
       "2    3      1_3                      Khách sạn Aaron (Aaron Hotel)   \n",
       "3    4      1_4                      Panorama Star Beach Nha Trang   \n",
       "4    5      1_5  Khách sạn Balcony Nha Trang (Balcony Nha Trang...   \n",
       "\n",
       "       Hotel_Rank                                      Hotel_Address  \\\n",
       "0    5 sao trên 5          60 Trần Phú, Lộc Thọ, Nha Trang, Việt Nam   \n",
       "1    4 sao trên 5  51/19/37 Tue Tinh St, Loc Tho Ward, Nha Trang,...   \n",
       "2  3.5 sao trên 5  6Trần Quang Khải, Lộc Thọ, Nha Trang, Việt Nam...   \n",
       "3    5 sao trên 5  02 Nguyen Thi Minh Khai, Lộc Thọ, Nha Trang, V...   \n",
       "4    4 sao trên 5      98B/13 Trần Phú, Lộc Thọ, Nha Trang, Việt Nam   \n",
       "\n",
       "  Total_Score Location Cleanliness Service Facilities Value_for_money  \\\n",
       "0         8,8      9,4         8,9     8,9        8,7             8,7   \n",
       "1         7,7      7,8         7,6     8,1        7,5             8,1   \n",
       "2         8,5      8,9         8,7     8,8        8,1             8,5   \n",
       "3         8,8      9,6         8,9     8,9        8,7             9,0   \n",
       "4         8,4      8,5         8,7     8,5        8,3             8,6   \n",
       "\n",
       "  Comfort_and_room_quality  comments_count  \\\n",
       "0                      8,3            1269   \n",
       "1                      NaN             337   \n",
       "2                      NaN             300   \n",
       "3                      NaN             814   \n",
       "4                      8,7             294   \n",
       "\n",
       "                                   Hotel_Description  \n",
       "0  Khách sạn Mường Thanh Luxury Nha Trang - Nơi l...  \n",
       "1  ALPHA BIRD NHA TRANG - Khách sạn 4.0 sao tại N...  \n",
       "2  Khách sạn Aaron - Nơi nghỉ dưỡng tuyệt vời tại...  \n",
       "3  Panorama Star Beach Nha Trang - Một kỳ nghỉ tu...  \n",
       "4  Khách sạn Balcony Nha Trang - Nơi nghỉ dưỡng t...  "
      ]
     },
     "execution_count": 117,
     "metadata": {},
     "output_type": "execute_result"
    }
   ],
   "source": [
    "df1= pd.read_csv('Data_Agoda_raw/hotel_info.csv')\n",
    "df1.head()"
   ]
  },
  {
   "cell_type": "code",
   "execution_count": 118,
   "id": "0b0992b3",
   "metadata": {},
   "outputs": [
    {
     "name": "stdout",
     "output_type": "stream",
     "text": [
      "<class 'pandas.core.frame.DataFrame'>\n",
      "RangeIndex: 740 entries, 0 to 739\n",
      "Data columns (total 14 columns):\n",
      " #   Column                    Non-Null Count  Dtype \n",
      "---  ------                    --------------  ----- \n",
      " 0   num                       740 non-null    int64 \n",
      " 1   Hotel_ID                  740 non-null    object\n",
      " 2   Hotel_Name                740 non-null    object\n",
      " 3   Hotel_Rank                740 non-null    object\n",
      " 4   Hotel_Address             740 non-null    object\n",
      " 5   Total_Score               740 non-null    object\n",
      " 6   Location                  413 non-null    object\n",
      " 7   Cleanliness               412 non-null    object\n",
      " 8   Service                   373 non-null    object\n",
      " 9   Facilities                370 non-null    object\n",
      " 10  Value_for_money           410 non-null    object\n",
      " 11  Comfort_and_room_quality  51 non-null     object\n",
      " 12  comments_count            740 non-null    int64 \n",
      " 13  Hotel_Description         739 non-null    object\n",
      "dtypes: int64(2), object(12)\n",
      "memory usage: 81.1+ KB\n"
     ]
    }
   ],
   "source": [
    "df1.info()"
   ]
  },
  {
   "cell_type": "code",
   "execution_count": 119,
   "id": "5834cb37",
   "metadata": {},
   "outputs": [],
   "source": [
    "num_cols = [\"Total_Score\", \"Location\", \"Cleanliness\", \"Service\",\"Facilities\", \"Value_for_money\", \"Comfort_and_room_quality\", \"comments_count\"]"
   ]
  },
  {
   "cell_type": "code",
   "execution_count": 120,
   "id": "1a52f335",
   "metadata": {},
   "outputs": [],
   "source": [
    "dirty_vals = [\"no information\", \"nan\", \"none\", \"null\", \"\", \"na\"]"
   ]
  },
  {
   "cell_type": "code",
   "execution_count": 121,
   "id": "f99b5b9b",
   "metadata": {},
   "outputs": [
    {
     "data": {
      "text/plain": [
       "{'Hotel_Rank': ['no information'],\n",
       " 'Total_Score': ['no information'],\n",
       " 'Location': ['nan'],\n",
       " 'Cleanliness': ['nan'],\n",
       " 'Service': ['nan'],\n",
       " 'Facilities': ['nan'],\n",
       " 'Value_for_money': ['nan'],\n",
       " 'Comfort_and_room_quality': ['nan'],\n",
       " 'Hotel_Description': ['nan']}"
      ]
     },
     "execution_count": 121,
     "metadata": {},
     "output_type": "execute_result"
    }
   ],
   "source": [
    "# Chọn các cột object\n",
    "obj_cols = df1.select_dtypes(include=[\"object\"]).columns\n",
    "\n",
    "summary = {}\n",
    "for col in obj_cols:\n",
    "    # Lấy tất cả giá trị duy nhất trong cột (chuẩn hóa về chữ thường)\n",
    "    unique_vals = df1[col].astype(str).str.strip().str.lower().unique()\n",
    "    \n",
    "    # Kiểm tra giao giữa unique_vals và dirty_vals\n",
    "    dirty_found = set(unique_vals) & set(dirty_vals)\n",
    "    \n",
    "    if dirty_found:\n",
    "        summary[col] = list(dirty_found)\n",
    "summary"
   ]
  },
  {
   "cell_type": "code",
   "execution_count": 122,
   "id": "9fe0cbb3",
   "metadata": {},
   "outputs": [],
   "source": [
    "for col in num_cols:\n",
    "    df1[col] = (\n",
    "        df1[col]\n",
    "        .astype(str)\n",
    "        .str.strip()\n",
    "        .str.lower()\n",
    "        .replace(dirty_vals, np.nan)\n",
    "        .str.replace(\",\", \".\", regex=False)\n",
    "    )\n",
    "    df1[col] = pd.to_numeric(df1[col], errors=\"coerce\")"
   ]
  },
  {
   "cell_type": "code",
   "execution_count": 123,
   "id": "77bdf3dd",
   "metadata": {},
   "outputs": [],
   "source": [
    "df1['Hotel_Rank'] = df1['Hotel_Rank'].astype(str).str.strip().str.lower().replace(dirty_vals,np.nan)"
   ]
  },
  {
   "cell_type": "code",
   "execution_count": 124,
   "id": "5e48790f",
   "metadata": {},
   "outputs": [],
   "source": [
    "df1[\"Hotel_Rank_Num\"] = df1[\"Hotel_Rank\"].str.extract(r\"(\\d+(?:\\.\\d+)?)\").astype(float)"
   ]
  },
  {
   "cell_type": "code",
   "execution_count": 125,
   "id": "2a9be74c",
   "metadata": {},
   "outputs": [
    {
     "name": "stdout",
     "output_type": "stream",
     "text": [
      "<class 'pandas.core.frame.DataFrame'>\n",
      "RangeIndex: 740 entries, 0 to 739\n",
      "Data columns (total 15 columns):\n",
      " #   Column                    Non-Null Count  Dtype  \n",
      "---  ------                    --------------  -----  \n",
      " 0   num                       740 non-null    int64  \n",
      " 1   Hotel_ID                  740 non-null    object \n",
      " 2   Hotel_Name                740 non-null    object \n",
      " 3   Hotel_Rank                267 non-null    object \n",
      " 4   Hotel_Address             740 non-null    object \n",
      " 5   Total_Score               414 non-null    float64\n",
      " 6   Location                  413 non-null    float64\n",
      " 7   Cleanliness               412 non-null    float64\n",
      " 8   Service                   373 non-null    float64\n",
      " 9   Facilities                370 non-null    float64\n",
      " 10  Value_for_money           410 non-null    float64\n",
      " 11  Comfort_and_room_quality  51 non-null     float64\n",
      " 12  comments_count            740 non-null    int64  \n",
      " 13  Hotel_Description         739 non-null    object \n",
      " 14  Hotel_Rank_Num            267 non-null    float64\n",
      "dtypes: float64(8), int64(2), object(5)\n",
      "memory usage: 86.8+ KB\n"
     ]
    }
   ],
   "source": [
    "df1.info()"
   ]
  },
  {
   "cell_type": "code",
   "execution_count": 126,
   "id": "a1f610c4",
   "metadata": {},
   "outputs": [],
   "source": [
    "cols_to_fill = [\"Total_Score\", \"Location\", \"Cleanliness\", \"Service\",\"Facilities\", \"Value_for_money\", \"Comfort_and_room_quality\",\"Hotel_Rank_Num\"]\n",
    "\n",
    "for col in cols_to_fill:\n",
    "    df1[col] = df1[col].fillna(0)"
   ]
  },
  {
   "cell_type": "code",
   "execution_count": 127,
   "id": "aede9aee",
   "metadata": {},
   "outputs": [
    {
     "name": "stdout",
     "output_type": "stream",
     "text": [
      "<class 'pandas.core.frame.DataFrame'>\n",
      "RangeIndex: 740 entries, 0 to 739\n",
      "Data columns (total 15 columns):\n",
      " #   Column                    Non-Null Count  Dtype  \n",
      "---  ------                    --------------  -----  \n",
      " 0   num                       740 non-null    int64  \n",
      " 1   Hotel_ID                  740 non-null    object \n",
      " 2   Hotel_Name                740 non-null    object \n",
      " 3   Hotel_Rank                267 non-null    object \n",
      " 4   Hotel_Address             740 non-null    object \n",
      " 5   Total_Score               740 non-null    float64\n",
      " 6   Location                  740 non-null    float64\n",
      " 7   Cleanliness               740 non-null    float64\n",
      " 8   Service                   740 non-null    float64\n",
      " 9   Facilities                740 non-null    float64\n",
      " 10  Value_for_money           740 non-null    float64\n",
      " 11  Comfort_and_room_quality  740 non-null    float64\n",
      " 12  comments_count            740 non-null    int64  \n",
      " 13  Hotel_Description         739 non-null    object \n",
      " 14  Hotel_Rank_Num            740 non-null    float64\n",
      "dtypes: float64(8), int64(2), object(5)\n",
      "memory usage: 86.8+ KB\n"
     ]
    }
   ],
   "source": [
    "df1.info()"
   ]
  },
  {
   "cell_type": "code",
   "execution_count": 128,
   "id": "6fccf45f",
   "metadata": {},
   "outputs": [],
   "source": [
    "df1 = df1.drop(columns=[\"Hotel_Rank\"])"
   ]
  },
  {
   "cell_type": "code",
   "execution_count": 129,
   "id": "234415df",
   "metadata": {},
   "outputs": [],
   "source": [
    "df1[\"Hotel_Description\"] = df1[\"Hotel_Description\"].fillna(\"-\")"
   ]
  },
  {
   "cell_type": "code",
   "execution_count": 130,
   "id": "91f440d5",
   "metadata": {},
   "outputs": [
    {
     "data": {
      "text/html": [
       "<div>\n",
       "<style scoped>\n",
       "    .dataframe tbody tr th:only-of-type {\n",
       "        vertical-align: middle;\n",
       "    }\n",
       "\n",
       "    .dataframe tbody tr th {\n",
       "        vertical-align: top;\n",
       "    }\n",
       "\n",
       "    .dataframe thead th {\n",
       "        text-align: right;\n",
       "    }\n",
       "</style>\n",
       "<table border=\"1\" class=\"dataframe\">\n",
       "  <thead>\n",
       "    <tr style=\"text-align: right;\">\n",
       "      <th></th>\n",
       "      <th>num</th>\n",
       "      <th>Hotel ID</th>\n",
       "      <th>Reviewer ID</th>\n",
       "      <th>Reviewer Name</th>\n",
       "      <th>Nationality</th>\n",
       "      <th>Group Name</th>\n",
       "      <th>Room Type</th>\n",
       "      <th>Stay Details</th>\n",
       "      <th>Score</th>\n",
       "      <th>Score Level</th>\n",
       "      <th>Title</th>\n",
       "      <th>Body</th>\n",
       "      <th>Review Date</th>\n",
       "    </tr>\n",
       "  </thead>\n",
       "  <tbody>\n",
       "    <tr>\n",
       "      <th>0</th>\n",
       "      <td>1</td>\n",
       "      <td>1_1</td>\n",
       "      <td>1_1_1</td>\n",
       "      <td>MARIKO</td>\n",
       "      <td>Nhật Bản</td>\n",
       "      <td>Cặp đôi</td>\n",
       "      <td>Phòng Deluxe 2 Giường đơn Nhìn ra Biển</td>\n",
       "      <td>Đã ở 3 đêm vào Tháng 7 năm 2023</td>\n",
       "      <td>10,0</td>\n",
       "      <td>Trên cả tuyệt vời</td>\n",
       "      <td>Cao nhất‼︎”</td>\n",
       "      <td>Tôi đã ở cùng chủ nhân trong 4 đêm. Nhân viên ...</td>\n",
       "      <td>Đã nhận xét vào 30 tháng 7 2023</td>\n",
       "    </tr>\n",
       "    <tr>\n",
       "      <th>1</th>\n",
       "      <td>2</td>\n",
       "      <td>1_1</td>\n",
       "      <td>1_1_2</td>\n",
       "      <td>Hong</td>\n",
       "      <td>Việt Nam</td>\n",
       "      <td>Đi công tác</td>\n",
       "      <td>Phòng Deluxe 2 Giường đơn Nhìn ra Biển</td>\n",
       "      <td>Đã ở 1 đêm vào Tháng 9 năm 2022</td>\n",
       "      <td>10,0</td>\n",
       "      <td>Trên cả tuyệt vời</td>\n",
       "      <td>Tháng 8”</td>\n",
       "      <td>Lựa chọn Mường Thanh vì giá cả phù hợp. Đặt On...</td>\n",
       "      <td>Đã nhận xét vào 05 tháng 9 2022</td>\n",
       "    </tr>\n",
       "    <tr>\n",
       "      <th>2</th>\n",
       "      <td>3</td>\n",
       "      <td>1_1</td>\n",
       "      <td>1_1_3</td>\n",
       "      <td>Guai</td>\n",
       "      <td>Việt Nam</td>\n",
       "      <td>Cặp đôi</td>\n",
       "      <td>Deluxe Hướng biển giường đôi</td>\n",
       "      <td>Đã ở 1 đêm vào Tháng 6 năm 2024</td>\n",
       "      <td>9,2</td>\n",
       "      <td>Trên cả tuyệt vời</td>\n",
       "      <td>Du lịch tại Nha Trang”</td>\n",
       "      <td>Lần này đến với Nha Trang, tôi book phòng tại ...</td>\n",
       "      <td>Đã nhận xét vào 25 tháng 6 2024</td>\n",
       "    </tr>\n",
       "    <tr>\n",
       "      <th>3</th>\n",
       "      <td>4</td>\n",
       "      <td>1_1</td>\n",
       "      <td>1_1_4</td>\n",
       "      <td>Nghĩa</td>\n",
       "      <td>Việt Nam</td>\n",
       "      <td>Gia đình có em bé</td>\n",
       "      <td>Deluxe Hướng biển giường đôi</td>\n",
       "      <td>Đã ở 3 đêm vào Tháng 6 năm 2024</td>\n",
       "      <td>8,8</td>\n",
       "      <td>Tuyệt vời</td>\n",
       "      <td>Du lịch Nha Trang tại Mường Thanh”</td>\n",
       "      <td>Hôm đi đến lúc về thì mọi thứ trong Khách sạn ...</td>\n",
       "      <td>Đã nhận xét vào 02 tháng 7 2024</td>\n",
       "    </tr>\n",
       "    <tr>\n",
       "      <th>4</th>\n",
       "      <td>5</td>\n",
       "      <td>1_1</td>\n",
       "      <td>1_1_5</td>\n",
       "      <td>Duc</td>\n",
       "      <td>Việt Nam</td>\n",
       "      <td>Cặp đôi</td>\n",
       "      <td>Deluxe 2 giường Hướng phố</td>\n",
       "      <td>Đã ở 1 đêm vào Tháng 6 năm 2024</td>\n",
       "      <td>9,2</td>\n",
       "      <td>Trên cả tuyệt vời</td>\n",
       "      <td>Ks tốt !”</td>\n",
       "      <td>Khách sạn có vị trí trung tâm và sát biển. Nhâ...</td>\n",
       "      <td>Đã nhận xét vào 16 tháng 6 2024</td>\n",
       "    </tr>\n",
       "  </tbody>\n",
       "</table>\n",
       "</div>"
      ],
      "text/plain": [
       "   num Hotel ID Reviewer ID Reviewer Name Nationality         Group Name  \\\n",
       "0    1      1_1       1_1_1        MARIKO    Nhật Bản            Cặp đôi   \n",
       "1    2      1_1       1_1_2          Hong    Việt Nam        Đi công tác   \n",
       "2    3      1_1       1_1_3          Guai    Việt Nam            Cặp đôi   \n",
       "3    4      1_1       1_1_4         Nghĩa    Việt Nam  Gia đình có em bé   \n",
       "4    5      1_1       1_1_5           Duc    Việt Nam            Cặp đôi   \n",
       "\n",
       "                                Room Type                     Stay Details  \\\n",
       "0  Phòng Deluxe 2 Giường đơn Nhìn ra Biển  Đã ở 3 đêm vào Tháng 7 năm 2023   \n",
       "1  Phòng Deluxe 2 Giường đơn Nhìn ra Biển  Đã ở 1 đêm vào Tháng 9 năm 2022   \n",
       "2            Deluxe Hướng biển giường đôi  Đã ở 1 đêm vào Tháng 6 năm 2024   \n",
       "3            Deluxe Hướng biển giường đôi  Đã ở 3 đêm vào Tháng 6 năm 2024   \n",
       "4               Deluxe 2 giường Hướng phố  Đã ở 1 đêm vào Tháng 6 năm 2024   \n",
       "\n",
       "  Score        Score Level                               Title  \\\n",
       "0  10,0  Trên cả tuyệt vời                         Cao nhất‼︎”   \n",
       "1  10,0  Trên cả tuyệt vời                            Tháng 8”   \n",
       "2   9,2  Trên cả tuyệt vời              Du lịch tại Nha Trang”   \n",
       "3   8,8          Tuyệt vời  Du lịch Nha Trang tại Mường Thanh”   \n",
       "4   9,2  Trên cả tuyệt vời                           Ks tốt !”   \n",
       "\n",
       "                                                Body  \\\n",
       "0  Tôi đã ở cùng chủ nhân trong 4 đêm. Nhân viên ...   \n",
       "1  Lựa chọn Mường Thanh vì giá cả phù hợp. Đặt On...   \n",
       "2  Lần này đến với Nha Trang, tôi book phòng tại ...   \n",
       "3  Hôm đi đến lúc về thì mọi thứ trong Khách sạn ...   \n",
       "4  Khách sạn có vị trí trung tâm và sát biển. Nhâ...   \n",
       "\n",
       "                       Review Date  \n",
       "0  Đã nhận xét vào 30 tháng 7 2023  \n",
       "1  Đã nhận xét vào 05 tháng 9 2022  \n",
       "2  Đã nhận xét vào 25 tháng 6 2024  \n",
       "3  Đã nhận xét vào 02 tháng 7 2024  \n",
       "4  Đã nhận xét vào 16 tháng 6 2024  "
      ]
     },
     "execution_count": 130,
     "metadata": {},
     "output_type": "execute_result"
    }
   ],
   "source": [
    "df2= pd.read_csv('Data_Agoda_raw/hotel_comments.csv')\n",
    "df2.head()"
   ]
  },
  {
   "cell_type": "code",
   "execution_count": 131,
   "id": "32158c74",
   "metadata": {},
   "outputs": [
    {
     "name": "stdout",
     "output_type": "stream",
     "text": [
      "<class 'pandas.core.frame.DataFrame'>\n",
      "RangeIndex: 80314 entries, 0 to 80313\n",
      "Data columns (total 13 columns):\n",
      " #   Column         Non-Null Count  Dtype \n",
      "---  ------         --------------  ----- \n",
      " 0   num            80314 non-null  int64 \n",
      " 1   Hotel ID       80314 non-null  object\n",
      " 2   Reviewer ID    80314 non-null  object\n",
      " 3   Reviewer Name  80228 non-null  object\n",
      " 4   Nationality    80314 non-null  object\n",
      " 5   Group Name     80314 non-null  object\n",
      " 6   Room Type      80314 non-null  object\n",
      " 7   Stay Details   80314 non-null  object\n",
      " 8   Score          80314 non-null  object\n",
      " 9   Score Level    80314 non-null  object\n",
      " 10  Title          80314 non-null  object\n",
      " 11  Body           80272 non-null  object\n",
      " 12  Review Date    80314 non-null  object\n",
      "dtypes: int64(1), object(12)\n",
      "memory usage: 8.0+ MB\n"
     ]
    }
   ],
   "source": [
    "df2.info()"
   ]
  },
  {
   "cell_type": "code",
   "execution_count": 132,
   "id": "f08a3d07",
   "metadata": {},
   "outputs": [],
   "source": [
    "df2['Score'] = df2['Score'].astype(str).str.strip().str.lower().replace(dirty_vals, np.nan).str.replace(\",\", \".\", regex=False)"
   ]
  },
  {
   "cell_type": "code",
   "execution_count": 133,
   "id": "6d175c35",
   "metadata": {},
   "outputs": [],
   "source": [
    "df2[\"Score\"] = df2[\"Score\"].astype(str).str.replace(\",\", \".\").astype(float)"
   ]
  },
  {
   "cell_type": "code",
   "execution_count": 134,
   "id": "b20f4a52",
   "metadata": {},
   "outputs": [],
   "source": [
    "df2.columns = df2.columns.str.strip().str.replace(\" \", \"_\")"
   ]
  },
  {
   "cell_type": "code",
   "execution_count": 135,
   "id": "52a9bc93",
   "metadata": {},
   "outputs": [],
   "source": [
    "df2 = df2.dropna(subset=['Reviewer_Name'])\n",
    "df2 = df2.dropna(subset=['Body'])"
   ]
  },
  {
   "cell_type": "code",
   "execution_count": 136,
   "id": "0d2e6f20",
   "metadata": {},
   "outputs": [
    {
     "data": {
      "text/html": [
       "<div>\n",
       "<style scoped>\n",
       "    .dataframe tbody tr th:only-of-type {\n",
       "        vertical-align: middle;\n",
       "    }\n",
       "\n",
       "    .dataframe tbody tr th {\n",
       "        vertical-align: top;\n",
       "    }\n",
       "\n",
       "    .dataframe thead th {\n",
       "        text-align: right;\n",
       "    }\n",
       "</style>\n",
       "<table border=\"1\" class=\"dataframe\">\n",
       "  <thead>\n",
       "    <tr style=\"text-align: right;\">\n",
       "      <th></th>\n",
       "      <th>num</th>\n",
       "      <th>Hotel_ID</th>\n",
       "      <th>Reviewer_ID</th>\n",
       "      <th>Reviewer_Name</th>\n",
       "      <th>Nationality</th>\n",
       "      <th>Group_Name</th>\n",
       "      <th>Room_Type</th>\n",
       "      <th>Stay_Details</th>\n",
       "      <th>Score</th>\n",
       "      <th>Score_Level</th>\n",
       "      <th>Title</th>\n",
       "      <th>Body</th>\n",
       "      <th>Review_Date</th>\n",
       "      <th>Hotel_Name</th>\n",
       "    </tr>\n",
       "  </thead>\n",
       "  <tbody>\n",
       "    <tr>\n",
       "      <th>0</th>\n",
       "      <td>1</td>\n",
       "      <td>1_1</td>\n",
       "      <td>1_1_1</td>\n",
       "      <td>MARIKO</td>\n",
       "      <td>Nhật Bản</td>\n",
       "      <td>Cặp đôi</td>\n",
       "      <td>Phòng Deluxe 2 Giường đơn Nhìn ra Biển</td>\n",
       "      <td>Đã ở 3 đêm vào Tháng 7 năm 2023</td>\n",
       "      <td>10.0</td>\n",
       "      <td>Trên cả tuyệt vời</td>\n",
       "      <td>Cao nhất‼︎”</td>\n",
       "      <td>Tôi đã ở cùng chủ nhân trong 4 đêm. Nhân viên ...</td>\n",
       "      <td>Đã nhận xét vào 30 tháng 7 2023</td>\n",
       "      <td>Khách sạn Mường Thanh Luxury Nha Trang (Muong ...</td>\n",
       "    </tr>\n",
       "    <tr>\n",
       "      <th>1</th>\n",
       "      <td>2</td>\n",
       "      <td>1_1</td>\n",
       "      <td>1_1_2</td>\n",
       "      <td>Hong</td>\n",
       "      <td>Việt Nam</td>\n",
       "      <td>Đi công tác</td>\n",
       "      <td>Phòng Deluxe 2 Giường đơn Nhìn ra Biển</td>\n",
       "      <td>Đã ở 1 đêm vào Tháng 9 năm 2022</td>\n",
       "      <td>10.0</td>\n",
       "      <td>Trên cả tuyệt vời</td>\n",
       "      <td>Tháng 8”</td>\n",
       "      <td>Lựa chọn Mường Thanh vì giá cả phù hợp. Đặt On...</td>\n",
       "      <td>Đã nhận xét vào 05 tháng 9 2022</td>\n",
       "      <td>Khách sạn Mường Thanh Luxury Nha Trang (Muong ...</td>\n",
       "    </tr>\n",
       "  </tbody>\n",
       "</table>\n",
       "</div>"
      ],
      "text/plain": [
       "   num Hotel_ID Reviewer_ID Reviewer_Name Nationality   Group_Name  \\\n",
       "0    1      1_1       1_1_1        MARIKO    Nhật Bản      Cặp đôi   \n",
       "1    2      1_1       1_1_2          Hong    Việt Nam  Đi công tác   \n",
       "\n",
       "                                Room_Type                     Stay_Details  \\\n",
       "0  Phòng Deluxe 2 Giường đơn Nhìn ra Biển  Đã ở 3 đêm vào Tháng 7 năm 2023   \n",
       "1  Phòng Deluxe 2 Giường đơn Nhìn ra Biển  Đã ở 1 đêm vào Tháng 9 năm 2022   \n",
       "\n",
       "   Score        Score_Level        Title  \\\n",
       "0   10.0  Trên cả tuyệt vời  Cao nhất‼︎”   \n",
       "1   10.0  Trên cả tuyệt vời     Tháng 8”   \n",
       "\n",
       "                                                Body  \\\n",
       "0  Tôi đã ở cùng chủ nhân trong 4 đêm. Nhân viên ...   \n",
       "1  Lựa chọn Mường Thanh vì giá cả phù hợp. Đặt On...   \n",
       "\n",
       "                       Review_Date  \\\n",
       "0  Đã nhận xét vào 30 tháng 7 2023   \n",
       "1  Đã nhận xét vào 05 tháng 9 2022   \n",
       "\n",
       "                                          Hotel_Name  \n",
       "0  Khách sạn Mường Thanh Luxury Nha Trang (Muong ...  \n",
       "1  Khách sạn Mường Thanh Luxury Nha Trang (Muong ...  "
      ]
     },
     "execution_count": 136,
     "metadata": {},
     "output_type": "execute_result"
    }
   ],
   "source": [
    "df2 = df2.merge(df1[[\"Hotel_ID\", \"Hotel_Name\"]], on=\"Hotel_ID\", how=\"left\")\n",
    "df2.head(2)"
   ]
  },
  {
   "cell_type": "code",
   "execution_count": 137,
   "id": "41ece24f",
   "metadata": {},
   "outputs": [],
   "source": [
    "df2[\"Days\"] = df2[\"Stay_Details\"].str.extract(r\"Đã ở (\\d+) đêm\").astype(int)"
   ]
  },
  {
   "cell_type": "code",
   "execution_count": 138,
   "id": "a90222e5",
   "metadata": {},
   "outputs": [],
   "source": [
    "df2[\"Month_Stay\"] = df2[\"Stay_Details\"].str.extract(r\"Tháng\\s+(\\d+)\").astype(int)"
   ]
  },
  {
   "cell_type": "code",
   "execution_count": 139,
   "id": "b6b94783",
   "metadata": {},
   "outputs": [],
   "source": [
    "df2[[\"day\", \"month\", \"year\"]] = df2[\"Review_Date\"].str.extract(r\"(\\d+)\\s+tháng\\s+(\\d+)\\s+(\\d+)\")"
   ]
  },
  {
   "cell_type": "code",
   "execution_count": 140,
   "id": "bc383813",
   "metadata": {},
   "outputs": [],
   "source": [
    "df2[\"Review_Date\"] = pd.to_datetime(df2[\"day\"] + \"/\" + df2[\"month\"] + \"/\" + df2[\"year\"], format=\"%d/%m/%Y\")"
   ]
  },
  {
   "cell_type": "code",
   "execution_count": 141,
   "id": "02602993",
   "metadata": {},
   "outputs": [
    {
     "data": {
      "text/plain": [
       "Index(['num', 'Hotel_ID', 'Reviewer_ID', 'Reviewer_Name', 'Nationality',\n",
       "       'Group_Name', 'Room_Type', 'Stay_Details', 'Score', 'Score_Level',\n",
       "       'Title', 'Body', 'Review_Date', 'Hotel_Name', 'Days', 'Month_Stay',\n",
       "       'day', 'month', 'year'],\n",
       "      dtype='object')"
      ]
     },
     "execution_count": 141,
     "metadata": {},
     "output_type": "execute_result"
    }
   ],
   "source": [
    "df2.columns"
   ]
  },
  {
   "cell_type": "code",
   "execution_count": 142,
   "id": "51bd0124",
   "metadata": {},
   "outputs": [],
   "source": [
    "df2 = df2.drop(columns=[\"num\",\"Reviewer_ID\",\"Stay_Details\",\"day\",\"month\",\"year\"])"
   ]
  },
  {
   "cell_type": "code",
   "execution_count": 143,
   "id": "8f1173ee",
   "metadata": {},
   "outputs": [],
   "source": [
    "df2[\"Mean_Reviewer_Score\"] = (df2.groupby(\"Hotel_ID\")[\"Score\"].transform(\"mean\"))"
   ]
  },
  {
   "cell_type": "code",
   "execution_count": 144,
   "id": "f41e71d5",
   "metadata": {},
   "outputs": [
    {
     "name": "stdout",
     "output_type": "stream",
     "text": [
      "<class 'pandas.core.frame.DataFrame'>\n",
      "RangeIndex: 80186 entries, 0 to 80185\n",
      "Data columns (total 14 columns):\n",
      " #   Column               Non-Null Count  Dtype         \n",
      "---  ------               --------------  -----         \n",
      " 0   Hotel_ID             80186 non-null  object        \n",
      " 1   Reviewer_Name        80186 non-null  object        \n",
      " 2   Nationality          80186 non-null  object        \n",
      " 3   Group_Name           80186 non-null  object        \n",
      " 4   Room_Type            80186 non-null  object        \n",
      " 5   Score                80186 non-null  float64       \n",
      " 6   Score_Level          80186 non-null  object        \n",
      " 7   Title                80186 non-null  object        \n",
      " 8   Body                 80186 non-null  object        \n",
      " 9   Review_Date          80186 non-null  datetime64[ns]\n",
      " 10  Hotel_Name           69751 non-null  object        \n",
      " 11  Days                 80186 non-null  int32         \n",
      " 12  Month_Stay           80186 non-null  int32         \n",
      " 13  Mean_Reviewer_Score  80186 non-null  float64       \n",
      "dtypes: datetime64[ns](1), float64(2), int32(2), object(9)\n",
      "memory usage: 8.0+ MB\n"
     ]
    }
   ],
   "source": [
    "df2.info()"
   ]
  },
  {
   "cell_type": "markdown",
   "id": "115c5be6",
   "metadata": {},
   "source": [
    "Những Hotel_ID ở bảng df2 không có tên tại bảng df1 có thể là những hotel_id lỗi không đáng tin tưởng nên drop"
   ]
  },
  {
   "cell_type": "code",
   "execution_count": 145,
   "id": "adee250d",
   "metadata": {},
   "outputs": [],
   "source": [
    "df2 = df2.dropna(subset=['Hotel_Name'])"
   ]
  },
  {
   "cell_type": "code",
   "execution_count": 146,
   "id": "eadaf741",
   "metadata": {},
   "outputs": [
    {
     "name": "stdout",
     "output_type": "stream",
     "text": [
      "<class 'pandas.core.frame.DataFrame'>\n",
      "Index: 69751 entries, 0 to 80185\n",
      "Data columns (total 14 columns):\n",
      " #   Column               Non-Null Count  Dtype         \n",
      "---  ------               --------------  -----         \n",
      " 0   Hotel_ID             69751 non-null  object        \n",
      " 1   Reviewer_Name        69751 non-null  object        \n",
      " 2   Nationality          69751 non-null  object        \n",
      " 3   Group_Name           69751 non-null  object        \n",
      " 4   Room_Type            69751 non-null  object        \n",
      " 5   Score                69751 non-null  float64       \n",
      " 6   Score_Level          69751 non-null  object        \n",
      " 7   Title                69751 non-null  object        \n",
      " 8   Body                 69751 non-null  object        \n",
      " 9   Review_Date          69751 non-null  datetime64[ns]\n",
      " 10  Hotel_Name           69751 non-null  object        \n",
      " 11  Days                 69751 non-null  int32         \n",
      " 12  Month_Stay           69751 non-null  int32         \n",
      " 13  Mean_Reviewer_Score  69751 non-null  float64       \n",
      "dtypes: datetime64[ns](1), float64(2), int32(2), object(9)\n",
      "memory usage: 7.5+ MB\n"
     ]
    }
   ],
   "source": [
    "df2.info()"
   ]
  },
  {
   "cell_type": "markdown",
   "id": "7f649835",
   "metadata": {},
   "source": [
    "##### Check dup review, comment "
   ]
  },
  {
   "cell_type": "code",
   "execution_count": 147,
   "id": "96ddae78",
   "metadata": {},
   "outputs": [],
   "source": [
    "df2['Review_ID_real'] = (\n",
    "    df2['Hotel_ID'].astype(str) + '_' +\n",
    "    df2['Reviewer_Name'].astype(str) + '_' +\n",
    "    df2['Nationality'].astype(str) + '_' +\n",
    "    df2['Review_Date'].astype(str) \n",
    ")"
   ]
  },
  {
   "cell_type": "code",
   "execution_count": 148,
   "id": "c11077c5",
   "metadata": {},
   "outputs": [],
   "source": [
    "def check_duplicate_column(df, col_name):\n",
    "    dup_rows = df[df.duplicated(subset=[col_name])]\n",
    "    print(f\"Số dòng trùng theo cột '{col_name}': {len(dup_rows)}\")\n",
    "    return dup_rows"
   ]
  },
  {
   "cell_type": "code",
   "execution_count": 149,
   "id": "5e880e9a",
   "metadata": {},
   "outputs": [
    {
     "name": "stdout",
     "output_type": "stream",
     "text": [
      "Số dòng trùng theo cột 'Review_ID_real': 43845\n"
     ]
    },
    {
     "data": {
      "text/html": [
       "<div>\n",
       "<style scoped>\n",
       "    .dataframe tbody tr th:only-of-type {\n",
       "        vertical-align: middle;\n",
       "    }\n",
       "\n",
       "    .dataframe tbody tr th {\n",
       "        vertical-align: top;\n",
       "    }\n",
       "\n",
       "    .dataframe thead th {\n",
       "        text-align: right;\n",
       "    }\n",
       "</style>\n",
       "<table border=\"1\" class=\"dataframe\">\n",
       "  <thead>\n",
       "    <tr style=\"text-align: right;\">\n",
       "      <th></th>\n",
       "      <th>Hotel_ID</th>\n",
       "      <th>Reviewer_Name</th>\n",
       "      <th>Nationality</th>\n",
       "      <th>Group_Name</th>\n",
       "      <th>Room_Type</th>\n",
       "      <th>Score</th>\n",
       "      <th>Score_Level</th>\n",
       "      <th>Title</th>\n",
       "      <th>Body</th>\n",
       "      <th>Review_Date</th>\n",
       "      <th>Hotel_Name</th>\n",
       "      <th>Days</th>\n",
       "      <th>Month_Stay</th>\n",
       "      <th>Mean_Reviewer_Score</th>\n",
       "      <th>Review_ID_real</th>\n",
       "    </tr>\n",
       "  </thead>\n",
       "  <tbody>\n",
       "    <tr>\n",
       "      <th>45</th>\n",
       "      <td>1_1</td>\n",
       "      <td>Minh</td>\n",
       "      <td>Việt Nam</td>\n",
       "      <td>Nhóm</td>\n",
       "      <td>Phòng Deluxe 2 Giường đơn Nhìn ra Biển</td>\n",
       "      <td>8.0</td>\n",
       "      <td>Tuyệt vời</td>\n",
       "      <td>Nóng”</td>\n",
       "      <td>Máy lạnh sảnh và phòng ăn hư. Rất nóng.</td>\n",
       "      <td>2024-06-22</td>\n",
       "      <td>Khách sạn Mường Thanh Luxury Nha Trang (Muong ...</td>\n",
       "      <td>2</td>\n",
       "      <td>6</td>\n",
       "      <td>9.407407</td>\n",
       "      <td>1_1_Minh_Việt Nam_2024-06-22</td>\n",
       "    </tr>\n",
       "    <tr>\n",
       "      <th>46</th>\n",
       "      <td>1_1</td>\n",
       "      <td>Minh</td>\n",
       "      <td>Việt Nam</td>\n",
       "      <td>Cặp đôi</td>\n",
       "      <td>Deluxe Hướng biển giường đôi</td>\n",
       "      <td>8.0</td>\n",
       "      <td>Tuyệt vời</td>\n",
       "      <td>Nóng”</td>\n",
       "      <td>Máy Lạnh sảnh và phòng ăn hư nên rất nóng</td>\n",
       "      <td>2024-06-22</td>\n",
       "      <td>Khách sạn Mường Thanh Luxury Nha Trang (Muong ...</td>\n",
       "      <td>2</td>\n",
       "      <td>6</td>\n",
       "      <td>9.407407</td>\n",
       "      <td>1_1_Minh_Việt Nam_2024-06-22</td>\n",
       "    </tr>\n",
       "    <tr>\n",
       "      <th>73</th>\n",
       "      <td>1_1</td>\n",
       "      <td>LE</td>\n",
       "      <td>Việt Nam</td>\n",
       "      <td>Cặp đôi</td>\n",
       "      <td>Deluxe 2 giường Hướng phố</td>\n",
       "      <td>10.0</td>\n",
       "      <td>Trên cả tuyệt vời</td>\n",
       "      <td>Tốt”</td>\n",
       "      <td>Sẽ quay lại</td>\n",
       "      <td>2024-04-14</td>\n",
       "      <td>Khách sạn Mường Thanh Luxury Nha Trang (Muong ...</td>\n",
       "      <td>2</td>\n",
       "      <td>2</td>\n",
       "      <td>9.407407</td>\n",
       "      <td>1_1_LE_Việt Nam_2024-04-14</td>\n",
       "    </tr>\n",
       "    <tr>\n",
       "      <th>74</th>\n",
       "      <td>1_1</td>\n",
       "      <td>LE</td>\n",
       "      <td>Việt Nam</td>\n",
       "      <td>Cặp đôi</td>\n",
       "      <td>Deluxe 2 giường Hướng phố</td>\n",
       "      <td>10.0</td>\n",
       "      <td>Trên cả tuyệt vời</td>\n",
       "      <td>Tốt”</td>\n",
       "      <td>Sẽ quay lại</td>\n",
       "      <td>2024-04-14</td>\n",
       "      <td>Khách sạn Mường Thanh Luxury Nha Trang (Muong ...</td>\n",
       "      <td>2</td>\n",
       "      <td>2</td>\n",
       "      <td>9.407407</td>\n",
       "      <td>1_1_LE_Việt Nam_2024-04-14</td>\n",
       "    </tr>\n",
       "    <tr>\n",
       "      <th>75</th>\n",
       "      <td>1_1</td>\n",
       "      <td>LE</td>\n",
       "      <td>Việt Nam</td>\n",
       "      <td>Nhóm</td>\n",
       "      <td>Deluxe 2 giường Hướng phố</td>\n",
       "      <td>10.0</td>\n",
       "      <td>Trên cả tuyệt vời</td>\n",
       "      <td>Tốt”</td>\n",
       "      <td>Sẽ quay lại</td>\n",
       "      <td>2024-04-14</td>\n",
       "      <td>Khách sạn Mường Thanh Luxury Nha Trang (Muong ...</td>\n",
       "      <td>2</td>\n",
       "      <td>2</td>\n",
       "      <td>9.407407</td>\n",
       "      <td>1_1_LE_Việt Nam_2024-04-14</td>\n",
       "    </tr>\n",
       "    <tr>\n",
       "      <th>...</th>\n",
       "      <td>...</td>\n",
       "      <td>...</td>\n",
       "      <td>...</td>\n",
       "      <td>...</td>\n",
       "      <td>...</td>\n",
       "      <td>...</td>\n",
       "      <td>...</td>\n",
       "      <td>...</td>\n",
       "      <td>...</td>\n",
       "      <td>...</td>\n",
       "      <td>...</td>\n",
       "      <td>...</td>\n",
       "      <td>...</td>\n",
       "      <td>...</td>\n",
       "      <td>...</td>\n",
       "    </tr>\n",
       "    <tr>\n",
       "      <th>79945</th>\n",
       "      <td>39_7</td>\n",
       "      <td>cheng</td>\n",
       "      <td>Trung Quốc</td>\n",
       "      <td>Gia đình có trẻ em</td>\n",
       "      <td>Suite Gia Đình 2 Phòng Ngủ</td>\n",
       "      <td>8.4</td>\n",
       "      <td>Tuyệt vời</td>\n",
       "      <td>性价比很高的家庭酒店”</td>\n",
       "      <td>装修很新，用的是大金空调，东芝洗衣机，设施硬件非常好，有电梯。价格很公道，早餐也不错。隔壁几...</td>\n",
       "      <td>2019-01-26</td>\n",
       "      <td>Khách sạn &amp; Căn hộ Moonlight Bay (Moonlight Ba...</td>\n",
       "      <td>3</td>\n",
       "      <td>1</td>\n",
       "      <td>9.267742</td>\n",
       "      <td>39_7_cheng_Trung Quốc_2019-01-26</td>\n",
       "    </tr>\n",
       "    <tr>\n",
       "      <th>79952</th>\n",
       "      <td>39_7</td>\n",
       "      <td>SEJUNG</td>\n",
       "      <td>Hàn Quốc</td>\n",
       "      <td>Du lịch một mình</td>\n",
       "      <td>Phòng Junior Suite</td>\n",
       "      <td>10.0</td>\n",
       "      <td>Trên cả tuyệt vời</td>\n",
       "      <td>나트랑 최고의 가성비호텔”</td>\n",
       "      <td>총 3박머무는동안 정말 너무만족스러웠구 혼자온 외국인인 저를위한 세심한배려, 사장님...</td>\n",
       "      <td>2022-08-12</td>\n",
       "      <td>Khách sạn &amp; Căn hộ Moonlight Bay (Moonlight Ba...</td>\n",
       "      <td>1</td>\n",
       "      <td>8</td>\n",
       "      <td>9.267742</td>\n",
       "      <td>39_7_SEJUNG_Hàn Quốc_2022-08-12</td>\n",
       "    </tr>\n",
       "    <tr>\n",
       "      <th>79979</th>\n",
       "      <td>39_17</td>\n",
       "      <td>Nino</td>\n",
       "      <td>Thụy Sĩ</td>\n",
       "      <td>Cặp đôi</td>\n",
       "      <td>Phòng Tiêu Chuẩn</td>\n",
       "      <td>10.0</td>\n",
       "      <td>Trên cả tuyệt vời</td>\n",
       "      <td>Trên cả tuyệt vời”</td>\n",
       "      <td>Great</td>\n",
       "      <td>2024-03-03</td>\n",
       "      <td>Gold Coast Hotel Nha Trang</td>\n",
       "      <td>1</td>\n",
       "      <td>2</td>\n",
       "      <td>9.288889</td>\n",
       "      <td>39_17_Nino_Thụy Sĩ_2024-03-03</td>\n",
       "    </tr>\n",
       "    <tr>\n",
       "      <th>79980</th>\n",
       "      <td>39_17</td>\n",
       "      <td>Nino</td>\n",
       "      <td>Thụy Sĩ</td>\n",
       "      <td>Cặp đôi</td>\n",
       "      <td>Phòng Tiêu Chuẩn</td>\n",
       "      <td>10.0</td>\n",
       "      <td>Trên cả tuyệt vời</td>\n",
       "      <td>Recommend ”</td>\n",
       "      <td>Clean and new. Good location friendly staff</td>\n",
       "      <td>2024-03-03</td>\n",
       "      <td>Gold Coast Hotel Nha Trang</td>\n",
       "      <td>3</td>\n",
       "      <td>2</td>\n",
       "      <td>9.288889</td>\n",
       "      <td>39_17_Nino_Thụy Sĩ_2024-03-03</td>\n",
       "    </tr>\n",
       "    <tr>\n",
       "      <th>80065</th>\n",
       "      <td>41_22</td>\n",
       "      <td>Nam</td>\n",
       "      <td>Hoa Kỳ</td>\n",
       "      <td>Cặp đôi</td>\n",
       "      <td>Phòng Standard giường đôi</td>\n",
       "      <td>9.2</td>\n",
       "      <td>Trên cả tuyệt vời</td>\n",
       "      <td>Not perfect but excellent”</td>\n",
       "      <td>Roaches in the room sometime, everything else ...</td>\n",
       "      <td>2018-12-17</td>\n",
       "      <td>Khách Sạn Nha Trang Pearl (Nha Trang Pearl Hotel)</td>\n",
       "      <td>3</td>\n",
       "      <td>12</td>\n",
       "      <td>9.088000</td>\n",
       "      <td>41_22_Nam_Hoa Kỳ_2018-12-17</td>\n",
       "    </tr>\n",
       "  </tbody>\n",
       "</table>\n",
       "<p>43845 rows × 15 columns</p>\n",
       "</div>"
      ],
      "text/plain": [
       "      Hotel_ID Reviewer_Name Nationality          Group_Name  \\\n",
       "45         1_1          Minh    Việt Nam                Nhóm   \n",
       "46         1_1          Minh    Việt Nam             Cặp đôi   \n",
       "73         1_1            LE    Việt Nam             Cặp đôi   \n",
       "74         1_1            LE    Việt Nam             Cặp đôi   \n",
       "75         1_1            LE    Việt Nam                Nhóm   \n",
       "...        ...           ...         ...                 ...   \n",
       "79945     39_7         cheng  Trung Quốc  Gia đình có trẻ em   \n",
       "79952     39_7        SEJUNG    Hàn Quốc    Du lịch một mình   \n",
       "79979    39_17          Nino     Thụy Sĩ             Cặp đôi   \n",
       "79980    39_17          Nino     Thụy Sĩ             Cặp đôi   \n",
       "80065    41_22           Nam      Hoa Kỳ             Cặp đôi   \n",
       "\n",
       "                                    Room_Type  Score        Score_Level  \\\n",
       "45     Phòng Deluxe 2 Giường đơn Nhìn ra Biển    8.0          Tuyệt vời   \n",
       "46               Deluxe Hướng biển giường đôi    8.0          Tuyệt vời   \n",
       "73                  Deluxe 2 giường Hướng phố   10.0  Trên cả tuyệt vời   \n",
       "74                  Deluxe 2 giường Hướng phố   10.0  Trên cả tuyệt vời   \n",
       "75                  Deluxe 2 giường Hướng phố   10.0  Trên cả tuyệt vời   \n",
       "...                                       ...    ...                ...   \n",
       "79945              Suite Gia Đình 2 Phòng Ngủ    8.4          Tuyệt vời   \n",
       "79952                      Phòng Junior Suite   10.0  Trên cả tuyệt vời   \n",
       "79979                        Phòng Tiêu Chuẩn   10.0  Trên cả tuyệt vời   \n",
       "79980                        Phòng Tiêu Chuẩn   10.0  Trên cả tuyệt vời   \n",
       "80065               Phòng Standard giường đôi    9.2  Trên cả tuyệt vời   \n",
       "\n",
       "                            Title  \\\n",
       "45                          Nóng”   \n",
       "46                          Nóng”   \n",
       "73                           Tốt”   \n",
       "74                           Tốt”   \n",
       "75                           Tốt”   \n",
       "...                           ...   \n",
       "79945                 性价比很高的家庭酒店”   \n",
       "79952              나트랑 최고의 가성비호텔”   \n",
       "79979          Trên cả tuyệt vời”   \n",
       "79980                 Recommend ”   \n",
       "80065  Not perfect but excellent”   \n",
       "\n",
       "                                                    Body Review_Date  \\\n",
       "45               Máy lạnh sảnh và phòng ăn hư. Rất nóng.  2024-06-22   \n",
       "46             Máy Lạnh sảnh và phòng ăn hư nên rất nóng  2024-06-22   \n",
       "73                                           Sẽ quay lại  2024-04-14   \n",
       "74                                           Sẽ quay lại  2024-04-14   \n",
       "75                                           Sẽ quay lại  2024-04-14   \n",
       "...                                                  ...         ...   \n",
       "79945  装修很新，用的是大金空调，东芝洗衣机，设施硬件非常好，有电梯。价格很公道，早餐也不错。隔壁几...  2019-01-26   \n",
       "79952  총 3박머무는동안 정말 너무만족스러웠구 혼자온 외국인인 저를위한 세심한배려, 사장님...  2022-08-12   \n",
       "79979                                              Great  2024-03-03   \n",
       "79980        Clean and new. Good location friendly staff  2024-03-03   \n",
       "80065  Roaches in the room sometime, everything else ...  2018-12-17   \n",
       "\n",
       "                                              Hotel_Name  Days  Month_Stay  \\\n",
       "45     Khách sạn Mường Thanh Luxury Nha Trang (Muong ...     2           6   \n",
       "46     Khách sạn Mường Thanh Luxury Nha Trang (Muong ...     2           6   \n",
       "73     Khách sạn Mường Thanh Luxury Nha Trang (Muong ...     2           2   \n",
       "74     Khách sạn Mường Thanh Luxury Nha Trang (Muong ...     2           2   \n",
       "75     Khách sạn Mường Thanh Luxury Nha Trang (Muong ...     2           2   \n",
       "...                                                  ...   ...         ...   \n",
       "79945  Khách sạn & Căn hộ Moonlight Bay (Moonlight Ba...     3           1   \n",
       "79952  Khách sạn & Căn hộ Moonlight Bay (Moonlight Ba...     1           8   \n",
       "79979                         Gold Coast Hotel Nha Trang     1           2   \n",
       "79980                         Gold Coast Hotel Nha Trang     3           2   \n",
       "80065  Khách Sạn Nha Trang Pearl (Nha Trang Pearl Hotel)     3          12   \n",
       "\n",
       "       Mean_Reviewer_Score                    Review_ID_real  \n",
       "45                9.407407      1_1_Minh_Việt Nam_2024-06-22  \n",
       "46                9.407407      1_1_Minh_Việt Nam_2024-06-22  \n",
       "73                9.407407        1_1_LE_Việt Nam_2024-04-14  \n",
       "74                9.407407        1_1_LE_Việt Nam_2024-04-14  \n",
       "75                9.407407        1_1_LE_Việt Nam_2024-04-14  \n",
       "...                    ...                               ...  \n",
       "79945             9.267742  39_7_cheng_Trung Quốc_2019-01-26  \n",
       "79952             9.267742   39_7_SEJUNG_Hàn Quốc_2022-08-12  \n",
       "79979             9.288889     39_17_Nino_Thụy Sĩ_2024-03-03  \n",
       "79980             9.288889     39_17_Nino_Thụy Sĩ_2024-03-03  \n",
       "80065             9.088000       41_22_Nam_Hoa Kỳ_2018-12-17  \n",
       "\n",
       "[43845 rows x 15 columns]"
      ]
     },
     "execution_count": 149,
     "metadata": {},
     "output_type": "execute_result"
    }
   ],
   "source": [
    "check_duplicate_column(df2, 'Review_ID_real')"
   ]
  },
  {
   "cell_type": "code",
   "execution_count": 150,
   "id": "eb90bf06",
   "metadata": {},
   "outputs": [],
   "source": [
    "df2 = df2.drop_duplicates(subset=['Review_ID_real'], keep='first')"
   ]
  },
  {
   "cell_type": "code",
   "execution_count": 151,
   "id": "b31d3dfb",
   "metadata": {},
   "outputs": [
    {
     "name": "stdout",
     "output_type": "stream",
     "text": [
      "<class 'pandas.core.frame.DataFrame'>\n",
      "Index: 25906 entries, 0 to 80185\n",
      "Data columns (total 15 columns):\n",
      " #   Column               Non-Null Count  Dtype         \n",
      "---  ------               --------------  -----         \n",
      " 0   Hotel_ID             25906 non-null  object        \n",
      " 1   Reviewer_Name        25906 non-null  object        \n",
      " 2   Nationality          25906 non-null  object        \n",
      " 3   Group_Name           25906 non-null  object        \n",
      " 4   Room_Type            25906 non-null  object        \n",
      " 5   Score                25906 non-null  float64       \n",
      " 6   Score_Level          25906 non-null  object        \n",
      " 7   Title                25906 non-null  object        \n",
      " 8   Body                 25906 non-null  object        \n",
      " 9   Review_Date          25906 non-null  datetime64[ns]\n",
      " 10  Hotel_Name           25906 non-null  object        \n",
      " 11  Days                 25906 non-null  int32         \n",
      " 12  Month_Stay           25906 non-null  int32         \n",
      " 13  Mean_Reviewer_Score  25906 non-null  float64       \n",
      " 14  Review_ID_real       25906 non-null  object        \n",
      "dtypes: datetime64[ns](1), float64(2), int32(2), object(10)\n",
      "memory usage: 3.0+ MB\n"
     ]
    }
   ],
   "source": [
    "df2.info()"
   ]
  },
  {
   "cell_type": "markdown",
   "id": "1d0eab12",
   "metadata": {},
   "source": [
    "##### Clean body"
   ]
  },
  {
   "cell_type": "code",
   "execution_count": 152,
   "id": "09cee3b8",
   "metadata": {},
   "outputs": [],
   "source": [
    "import re\n",
    "import pandas as pd\n",
    "from joblib import Parallel, delayed"
   ]
  },
  {
   "cell_type": "code",
   "execution_count": 153,
   "id": "2dcb45ab",
   "metadata": {},
   "outputs": [],
   "source": [
    "# Load dictionary từ file txt\n",
    "def load_dict(file_path):\n",
    "    with open(file_path, \"r\", encoding=\"utf-8\") as f:\n",
    "        lines = f.readlines()\n",
    "    return dict(line.strip().split(\"\\t\") for line in lines if \"\\t\" in line)"
   ]
  },
  {
   "cell_type": "code",
   "execution_count": 154,
   "id": "667ed910",
   "metadata": {},
   "outputs": [],
   "source": [
    "# Load các dict\n",
    "teencode_dict = load_dict(\"files/teencode.txt\")\n",
    "english_vn_dict = load_dict(\"files/english-vnmese.txt\")\n",
    "emoji_dict = load_dict(\"files/emojicon.txt\")"
   ]
  },
  {
   "cell_type": "code",
   "execution_count": 155,
   "id": "bc85111e",
   "metadata": {},
   "outputs": [],
   "source": [
    "def replace_all_dicts(text, teencode_dict=None, english_vn_dict=None, emoji_dict=None):\n",
    "    \"\"\"\n",
    "    Thay thế theo dict nhưng không dùng regex pattern\n",
    "    \"\"\"\n",
    "    if pd.isna(text):\n",
    "        return text\n",
    "\n",
    "    all_dict = {}\n",
    "    if teencode_dict:\n",
    "        all_dict.update(teencode_dict)\n",
    "    if english_vn_dict:\n",
    "        all_dict.update(english_vn_dict)\n",
    "    if emoji_dict:\n",
    "        all_dict.update(emoji_dict)\n",
    "\n",
    "    # replace lần lượt theo key\n",
    "    for k, v in all_dict.items():\n",
    "        if v and isinstance(v, str):   # value không rỗng\n",
    "            text = text.replace(k, v)\n",
    "\n",
    "    return text"
   ]
  },
  {
   "cell_type": "code",
   "execution_count": 156,
   "id": "82aaf495",
   "metadata": {},
   "outputs": [],
   "source": [
    "df2['Body_clean'] = df2['Body'].apply(lambda x: replace_all_dicts(x, teencode_dict, english_vn_dict,emoji_dict))"
   ]
  },
  {
   "cell_type": "code",
   "execution_count": 157,
   "id": "03b4fade",
   "metadata": {},
   "outputs": [],
   "source": [
    "# Stopwords\n",
    "stop_words = set()\n",
    "with open('files/vietnamese-stopwords.txt', 'r', encoding='utf-8') as file:\n",
    "    for line in file:\n",
    "        word = line.strip()\n",
    "        if word:\n",
    "            stop_words.add(word)"
   ]
  },
  {
   "cell_type": "code",
   "execution_count": 158,
   "id": "bda9e0b2",
   "metadata": {},
   "outputs": [],
   "source": [
    "# Wrongwords\n",
    "wrong_words = set()\n",
    "with open('files\\wrong-word.txt', 'r', encoding='utf-8') as file:\n",
    "    for line in file:\n",
    "        word = line.strip()\n",
    "        if word:\n",
    "            wrong_words.add(word)"
   ]
  },
  {
   "cell_type": "code",
   "execution_count": 159,
   "id": "5bbee0b8",
   "metadata": {},
   "outputs": [],
   "source": [
    "def clean_text_remove_wrong(text, wrong_words, stop_words):\n",
    "    if pd.isna(text):\n",
    "        return text\n",
    "    \n",
    "    # 1️⃣ loại bỏ các từ sai\n",
    "    words = text.split()\n",
    "    words = [w for w in words if w.lower() not in wrong_words]\n",
    "    \n",
    "    # 2️⃣ loại bỏ stopwords\n",
    "    words = [w for w in words if w.lower() not in stop_words] \n",
    "    return ' '.join(words)"
   ]
  },
  {
   "cell_type": "code",
   "execution_count": 160,
   "id": "98c50bd0",
   "metadata": {},
   "outputs": [],
   "source": [
    "df2['Body_clean'] = df2['Body'].apply(lambda x: clean_text_remove_wrong(x, wrong_words, stop_words))"
   ]
  },
  {
   "cell_type": "code",
   "execution_count": 161,
   "id": "23a58b46",
   "metadata": {},
   "outputs": [
    {
     "name": "stdout",
     "output_type": "stream",
     "text": [
      "<class 'pandas.core.frame.DataFrame'>\n",
      "Index: 25906 entries, 0 to 80185\n",
      "Data columns (total 16 columns):\n",
      " #   Column               Non-Null Count  Dtype         \n",
      "---  ------               --------------  -----         \n",
      " 0   Hotel_ID             25906 non-null  object        \n",
      " 1   Reviewer_Name        25906 non-null  object        \n",
      " 2   Nationality          25906 non-null  object        \n",
      " 3   Group_Name           25906 non-null  object        \n",
      " 4   Room_Type            25906 non-null  object        \n",
      " 5   Score                25906 non-null  float64       \n",
      " 6   Score_Level          25906 non-null  object        \n",
      " 7   Title                25906 non-null  object        \n",
      " 8   Body                 25906 non-null  object        \n",
      " 9   Review_Date          25906 non-null  datetime64[ns]\n",
      " 10  Hotel_Name           25906 non-null  object        \n",
      " 11  Days                 25906 non-null  int32         \n",
      " 12  Month_Stay           25906 non-null  int32         \n",
      " 13  Mean_Reviewer_Score  25906 non-null  float64       \n",
      " 14  Review_ID_real       25906 non-null  object        \n",
      " 15  Body_clean           25906 non-null  object        \n",
      "dtypes: datetime64[ns](1), float64(2), int32(2), object(11)\n",
      "memory usage: 3.2+ MB\n"
     ]
    }
   ],
   "source": [
    "df2.info()"
   ]
  },
  {
   "cell_type": "markdown",
   "id": "4d198d0e",
   "metadata": {},
   "source": [
    "##### Clean body review tiếng nước ngoài"
   ]
  },
  {
   "cell_type": "markdown",
   "id": "5b1993de",
   "metadata": {},
   "source": [
    "Vì bảng df2 đang có những cmt tiếng anh, tiếng việt và các thứ tiếng khác nên không thể cho insight các từ khóa tích cực, tiêu cực về khách sạn đó.\n",
    "Vậy nên, bảng df2 sẽ được copy thành bảng df3 và loại bỏ các thứ tiếng khác ngoại trừ các body review tiếng anh và tiếng việt đã được xử lý ở trên"
   ]
  },
  {
   "cell_type": "code",
   "execution_count": 162,
   "id": "1f171638",
   "metadata": {},
   "outputs": [],
   "source": [
    "df3 = df2"
   ]
  },
  {
   "cell_type": "code",
   "execution_count": 163,
   "id": "86f5405a",
   "metadata": {},
   "outputs": [],
   "source": [
    "from langdetect import detect"
   ]
  },
  {
   "cell_type": "code",
   "execution_count": 164,
   "id": "17c6057b",
   "metadata": {},
   "outputs": [],
   "source": [
    "def is_not_vi_en(text):\n",
    "    try:\n",
    "        lang = detect(text)\n",
    "        return lang not in ['vi', 'en']\n",
    "    except:\n",
    "        return False "
   ]
  },
  {
   "cell_type": "code",
   "execution_count": 165,
   "id": "32d8ab34",
   "metadata": {},
   "outputs": [],
   "source": [
    "df3['non_vi_en'] = df3['Body_clean'].apply(is_not_vi_en)"
   ]
  },
  {
   "cell_type": "code",
   "execution_count": 166,
   "id": "04b08183",
   "metadata": {},
   "outputs": [
    {
     "data": {
      "text/plain": [
       "6767"
      ]
     },
     "execution_count": 166,
     "metadata": {},
     "output_type": "execute_result"
    }
   ],
   "source": [
    "num_non_vi_en = df3['non_vi_en'].sum()\n",
    "num_non_vi_en"
   ]
  },
  {
   "cell_type": "code",
   "execution_count": 167,
   "id": "bc117a04",
   "metadata": {},
   "outputs": [],
   "source": [
    "# Giữ lại những dòng có non_vi_en == False\n",
    "df3 = df3[df3['non_vi_en'] == False].copy()"
   ]
  },
  {
   "cell_type": "code",
   "execution_count": 168,
   "id": "fb26fee4",
   "metadata": {},
   "outputs": [],
   "source": [
    "# Loại bỏ cmt chỉ có ký tự\n",
    "def has_letters(text):\n",
    "    if pd.isna(text):\n",
    "        return False\n",
    "    # Kiểm tra có ít nhất 1 ký tự chữ cái (Latin hoặc tiếng Việt có dấu)\n",
    "    return bool(re.search(r'[A-Za-zÀ-ỹà-ỹ]', text))"
   ]
  },
  {
   "cell_type": "code",
   "execution_count": 169,
   "id": "45a1172d",
   "metadata": {},
   "outputs": [],
   "source": [
    "# Lọc giữ lại comment có chữ cái\n",
    "df3 = df3[df3['Body_clean'].apply(has_letters)].copy()"
   ]
  },
  {
   "cell_type": "code",
   "execution_count": 170,
   "id": "0c13f0f5",
   "metadata": {},
   "outputs": [
    {
     "name": "stdout",
     "output_type": "stream",
     "text": [
      "<class 'pandas.core.frame.DataFrame'>\n",
      "Index: 17512 entries, 0 to 80185\n",
      "Data columns (total 17 columns):\n",
      " #   Column               Non-Null Count  Dtype         \n",
      "---  ------               --------------  -----         \n",
      " 0   Hotel_ID             17512 non-null  object        \n",
      " 1   Reviewer_Name        17512 non-null  object        \n",
      " 2   Nationality          17512 non-null  object        \n",
      " 3   Group_Name           17512 non-null  object        \n",
      " 4   Room_Type            17512 non-null  object        \n",
      " 5   Score                17512 non-null  float64       \n",
      " 6   Score_Level          17512 non-null  object        \n",
      " 7   Title                17512 non-null  object        \n",
      " 8   Body                 17512 non-null  object        \n",
      " 9   Review_Date          17512 non-null  datetime64[ns]\n",
      " 10  Hotel_Name           17512 non-null  object        \n",
      " 11  Days                 17512 non-null  int32         \n",
      " 12  Month_Stay           17512 non-null  int32         \n",
      " 13  Mean_Reviewer_Score  17512 non-null  float64       \n",
      " 14  Review_ID_real       17512 non-null  object        \n",
      " 15  Body_clean           17512 non-null  object        \n",
      " 16  non_vi_en            17512 non-null  bool          \n",
      "dtypes: bool(1), datetime64[ns](1), float64(2), int32(2), object(11)\n",
      "memory usage: 2.2+ MB\n"
     ]
    }
   ],
   "source": [
    "df3.info()"
   ]
  },
  {
   "cell_type": "code",
   "execution_count": 171,
   "id": "8dc3401a",
   "metadata": {},
   "outputs": [
    {
     "data": {
      "text/html": [
       "<div>\n",
       "<style scoped>\n",
       "    .dataframe tbody tr th:only-of-type {\n",
       "        vertical-align: middle;\n",
       "    }\n",
       "\n",
       "    .dataframe tbody tr th {\n",
       "        vertical-align: top;\n",
       "    }\n",
       "\n",
       "    .dataframe thead th {\n",
       "        text-align: right;\n",
       "    }\n",
       "</style>\n",
       "<table border=\"1\" class=\"dataframe\">\n",
       "  <thead>\n",
       "    <tr style=\"text-align: right;\">\n",
       "      <th></th>\n",
       "      <th>Hotel_ID</th>\n",
       "      <th>Reviewer_Name</th>\n",
       "      <th>Nationality</th>\n",
       "      <th>Group_Name</th>\n",
       "      <th>Room_Type</th>\n",
       "      <th>Score</th>\n",
       "      <th>Score_Level</th>\n",
       "      <th>Title</th>\n",
       "      <th>Body</th>\n",
       "      <th>Review_Date</th>\n",
       "      <th>Hotel_Name</th>\n",
       "      <th>Days</th>\n",
       "      <th>Month_Stay</th>\n",
       "      <th>Mean_Reviewer_Score</th>\n",
       "      <th>Review_ID_real</th>\n",
       "      <th>Body_clean</th>\n",
       "      <th>non_vi_en</th>\n",
       "    </tr>\n",
       "  </thead>\n",
       "  <tbody>\n",
       "    <tr>\n",
       "      <th>0</th>\n",
       "      <td>1_1</td>\n",
       "      <td>MARIKO</td>\n",
       "      <td>Nhật Bản</td>\n",
       "      <td>Cặp đôi</td>\n",
       "      <td>Phòng Deluxe 2 Giường đơn Nhìn ra Biển</td>\n",
       "      <td>10.0</td>\n",
       "      <td>Trên cả tuyệt vời</td>\n",
       "      <td>Cao nhất‼︎”</td>\n",
       "      <td>Tôi đã ở cùng chủ nhân trong 4 đêm. Nhân viên ...</td>\n",
       "      <td>2023-07-30</td>\n",
       "      <td>Khách sạn Mường Thanh Luxury Nha Trang (Muong ...</td>\n",
       "      <td>3</td>\n",
       "      <td>7</td>\n",
       "      <td>9.407407</td>\n",
       "      <td>1_1_MARIKO_Nhật Bản_2023-07-30</td>\n",
       "      <td>chủ nhân 4 đêm. Nhân viên thân thiện. Tầm phòn...</td>\n",
       "      <td>False</td>\n",
       "    </tr>\n",
       "    <tr>\n",
       "      <th>1</th>\n",
       "      <td>1_1</td>\n",
       "      <td>Hong</td>\n",
       "      <td>Việt Nam</td>\n",
       "      <td>Đi công tác</td>\n",
       "      <td>Phòng Deluxe 2 Giường đơn Nhìn ra Biển</td>\n",
       "      <td>10.0</td>\n",
       "      <td>Trên cả tuyệt vời</td>\n",
       "      <td>Tháng 8”</td>\n",
       "      <td>Lựa chọn Mường Thanh vì giá cả phù hợp. Đặt On...</td>\n",
       "      <td>2022-09-05</td>\n",
       "      <td>Khách sạn Mường Thanh Luxury Nha Trang (Muong ...</td>\n",
       "      <td>1</td>\n",
       "      <td>9</td>\n",
       "      <td>9.407407</td>\n",
       "      <td>1_1_Hong_Việt Nam_2022-09-05</td>\n",
       "      <td>Lựa Mường giá phù hợp. Online ưu đãi. Bữa phú ...</td>\n",
       "      <td>False</td>\n",
       "    </tr>\n",
       "  </tbody>\n",
       "</table>\n",
       "</div>"
      ],
      "text/plain": [
       "  Hotel_ID Reviewer_Name Nationality   Group_Name  \\\n",
       "0      1_1        MARIKO    Nhật Bản      Cặp đôi   \n",
       "1      1_1          Hong    Việt Nam  Đi công tác   \n",
       "\n",
       "                                Room_Type  Score        Score_Level  \\\n",
       "0  Phòng Deluxe 2 Giường đơn Nhìn ra Biển   10.0  Trên cả tuyệt vời   \n",
       "1  Phòng Deluxe 2 Giường đơn Nhìn ra Biển   10.0  Trên cả tuyệt vời   \n",
       "\n",
       "         Title                                               Body Review_Date  \\\n",
       "0  Cao nhất‼︎”  Tôi đã ở cùng chủ nhân trong 4 đêm. Nhân viên ...  2023-07-30   \n",
       "1     Tháng 8”  Lựa chọn Mường Thanh vì giá cả phù hợp. Đặt On...  2022-09-05   \n",
       "\n",
       "                                          Hotel_Name  Days  Month_Stay  \\\n",
       "0  Khách sạn Mường Thanh Luxury Nha Trang (Muong ...     3           7   \n",
       "1  Khách sạn Mường Thanh Luxury Nha Trang (Muong ...     1           9   \n",
       "\n",
       "   Mean_Reviewer_Score                  Review_ID_real  \\\n",
       "0             9.407407  1_1_MARIKO_Nhật Bản_2023-07-30   \n",
       "1             9.407407    1_1_Hong_Việt Nam_2022-09-05   \n",
       "\n",
       "                                          Body_clean  non_vi_en  \n",
       "0  chủ nhân 4 đêm. Nhân viên thân thiện. Tầm phòn...      False  \n",
       "1  Lựa Mường giá phù hợp. Online ưu đãi. Bữa phú ...      False  "
      ]
     },
     "execution_count": 171,
     "metadata": {},
     "output_type": "execute_result"
    }
   ],
   "source": [
    "df3.head(2)"
   ]
  },
  {
   "cell_type": "code",
   "execution_count": 172,
   "id": "6c6340b0",
   "metadata": {},
   "outputs": [],
   "source": [
    "hotel_corpus3 = df3.groupby(\"Hotel_ID\")[\"Body_clean\"].apply(lambda x: \" \".join(x)).reset_index()"
   ]
  },
  {
   "cell_type": "code",
   "execution_count": 173,
   "id": "222139ec",
   "metadata": {},
   "outputs": [
    {
     "name": "stdout",
     "output_type": "stream",
     "text": [
      "<class 'pandas.core.frame.DataFrame'>\n",
      "Index: 17512 entries, 0 to 80185\n",
      "Data columns (total 17 columns):\n",
      " #   Column               Non-Null Count  Dtype         \n",
      "---  ------               --------------  -----         \n",
      " 0   Hotel_ID             17512 non-null  object        \n",
      " 1   Reviewer_Name        17512 non-null  object        \n",
      " 2   Nationality          17512 non-null  object        \n",
      " 3   Group_Name           17512 non-null  object        \n",
      " 4   Room_Type            17512 non-null  object        \n",
      " 5   Score                17512 non-null  float64       \n",
      " 6   Score_Level          17512 non-null  object        \n",
      " 7   Title                17512 non-null  object        \n",
      " 8   Body                 17512 non-null  object        \n",
      " 9   Review_Date          17512 non-null  datetime64[ns]\n",
      " 10  Hotel_Name           17512 non-null  object        \n",
      " 11  Days                 17512 non-null  int32         \n",
      " 12  Month_Stay           17512 non-null  int32         \n",
      " 13  Mean_Reviewer_Score  17512 non-null  float64       \n",
      " 14  Review_ID_real       17512 non-null  object        \n",
      " 15  Body_clean           17512 non-null  object        \n",
      " 16  non_vi_en            17512 non-null  bool          \n",
      "dtypes: bool(1), datetime64[ns](1), float64(2), int32(2), object(11)\n",
      "memory usage: 2.2+ MB\n"
     ]
    }
   ],
   "source": [
    "df3.info()"
   ]
  },
  {
   "cell_type": "markdown",
   "id": "c3c0d65e",
   "metadata": {},
   "source": [
    "### Collaborative Filtering"
   ]
  },
  {
   "cell_type": "markdown",
   "id": "28b93515",
   "metadata": {},
   "source": [
    "##### ALS"
   ]
  },
  {
   "cell_type": "code",
   "execution_count": 174,
   "id": "edf484df",
   "metadata": {},
   "outputs": [],
   "source": [
    "import findspark\n",
    "findspark.init(\"C:/spark/spark-3.5.1-bin-hadoop3\")"
   ]
  },
  {
   "cell_type": "code",
   "execution_count": 175,
   "id": "7f41f5f2",
   "metadata": {},
   "outputs": [],
   "source": [
    "import pyspark\n",
    "from pyspark import SparkContext\n",
    "from pyspark.sql import SparkSession\n",
    "from pyspark.ml.recommendation import ALS"
   ]
  },
  {
   "cell_type": "code",
   "execution_count": 176,
   "id": "9fd9302b",
   "metadata": {},
   "outputs": [],
   "source": [
    "spark = SparkSession.builder \\\n",
    "    .appName(\"Hotel_Recommendation\") \\\n",
    "    .getOrCreate()"
   ]
  },
  {
   "cell_type": "code",
   "execution_count": 177,
   "id": "0a5cc32c",
   "metadata": {},
   "outputs": [],
   "source": [
    "sdf1 = spark.createDataFrame(df1)\n",
    "sdf3 = spark.createDataFrame(df3)"
   ]
  },
  {
   "cell_type": "code",
   "execution_count": 178,
   "id": "e365622e",
   "metadata": {},
   "outputs": [
    {
     "name": "stdout",
     "output_type": "stream",
     "text": [
      "+---+--------+--------------------+--------------------+-----------+--------+-----------+-------+----------+---------------+------------------------+--------------+--------------------+--------------+\n",
      "|num|Hotel_ID|          Hotel_Name|       Hotel_Address|Total_Score|Location|Cleanliness|Service|Facilities|Value_for_money|Comfort_and_room_quality|comments_count|   Hotel_Description|Hotel_Rank_Num|\n",
      "+---+--------+--------------------+--------------------+-----------+--------+-----------+-------+----------+---------------+------------------------+--------------+--------------------+--------------+\n",
      "|  1|     1_1|Khách sạn Mường T...|60 Trần Phú, Lộc ...|        8.8|     9.4|        8.9|    8.9|       8.7|            8.7|                     8.3|          1269|Khách sạn Mường T...|           5.0|\n",
      "|  2|     1_2|ALPHA BIRD NHA TRANG|51/19/37 Tue Tinh...|        7.7|     7.8|        7.6|    8.1|       7.5|            8.1|                     0.0|           337|ALPHA BIRD NHA TR...|           4.0|\n",
      "|  3|     1_3|Khách sạn Aaron (...|6Trần Quang Khải,...|        8.5|     8.9|        8.7|    8.8|       8.1|            8.5|                     0.0|           300|Khách sạn Aaron -...|           3.5|\n",
      "|  4|     1_4|Panorama Star Bea...|02 Nguyen Thi Min...|        8.8|     9.6|        8.9|    8.9|       8.7|            9.0|                     0.0|           814|Panorama Star Bea...|           5.0|\n",
      "|  5|     1_5|Khách sạn Balcony...|98B/13 Trần Phú, ...|        8.4|     8.5|        8.7|    8.5|       8.3|            8.6|                     8.7|           294|Khách sạn Balcony...|           4.0|\n",
      "+---+--------+--------------------+--------------------+-----------+--------+-----------+-------+----------+---------------+------------------------+--------------+--------------------+--------------+\n",
      "only showing top 5 rows\n",
      "\n"
     ]
    }
   ],
   "source": [
    "sdf1.show(5)"
   ]
  },
  {
   "cell_type": "code",
   "execution_count": 179,
   "id": "520ae2b9",
   "metadata": {},
   "outputs": [
    {
     "name": "stdout",
     "output_type": "stream",
     "text": [
      "+--------+-------------+-----------+-----------------+--------------------+-----+-----------------+--------------------+--------------------+-------------------+--------------------+----+----------+-------------------+--------------------+--------------------+---------+\n",
      "|Hotel_ID|Reviewer_Name|Nationality|       Group_Name|           Room_Type|Score|      Score_Level|               Title|                Body|        Review_Date|          Hotel_Name|Days|Month_Stay|Mean_Reviewer_Score|      Review_ID_real|          Body_clean|non_vi_en|\n",
      "+--------+-------------+-----------+-----------------+--------------------+-----+-----------------+--------------------+--------------------+-------------------+--------------------+----+----------+-------------------+--------------------+--------------------+---------+\n",
      "|     1_1|       MARIKO|   Nhật Bản|          Cặp đôi|Phòng Deluxe 2 Gi...| 10.0|Trên cả tuyệt vời|         Cao nhất‼︎”|Tôi đã ở cùng chủ...|2023-07-30 00:00:00|Khách sạn Mường T...|   3|         7|  9.407407407407407|1_1_MARIKO_Nhật B...|chủ nhân 4 đêm. N...|    false|\n",
      "|     1_1|         Hong|   Việt Nam|      Đi công tác|Phòng Deluxe 2 Gi...| 10.0|Trên cả tuyệt vời|            Tháng 8”|Lựa chọn Mường Th...|2022-09-05 00:00:00|Khách sạn Mường T...|   1|         9|  9.407407407407407|1_1_Hong_Việt Nam...|Lựa Mường giá phù...|    false|\n",
      "|     1_1|         Guai|   Việt Nam|          Cặp đôi|Deluxe Hướng biển...|  9.2|Trên cả tuyệt vời|Du lịch tại Nha T...|Lần này đến với N...|2024-06-25 00:00:00|Khách sạn Mường T...|   1|         6|  9.407407407407407|1_1_Guai_Việt Nam...|Trang, phòng sạn ...|    false|\n",
      "|     1_1|        Nghĩa|   Việt Nam|Gia đình có em bé|Deluxe Hướng biển...|  8.8|        Tuyệt vời|Du lịch Nha Trang...|Hôm đi đến lúc về...|2024-07-02 00:00:00|Khách sạn Mường T...|   3|         6|  9.407407407407407|1_1_Nghĩa_Việt Na...|Hôm đi sạn tuyết ...|    false|\n",
      "|     1_1|          Duc|   Việt Nam|          Cặp đôi|Deluxe 2 giường H...|  9.2|Trên cả tuyệt vời|           Ks tốt !”|Khách sạn có vị t...|2024-06-16 00:00:00|Khách sạn Mường T...|   1|         6|  9.407407407407407|1_1_Duc_Việt Nam_...|sạn vị trí tâm sá...|    false|\n",
      "+--------+-------------+-----------+-----------------+--------------------+-----+-----------------+--------------------+--------------------+-------------------+--------------------+----+----------+-------------------+--------------------+--------------------+---------+\n",
      "only showing top 5 rows\n",
      "\n"
     ]
    }
   ],
   "source": [
    "sdf3.show(5)"
   ]
  },
  {
   "cell_type": "code",
   "execution_count": 180,
   "id": "db9f67c5",
   "metadata": {},
   "outputs": [],
   "source": [
    "sdf3 = sdf3.join(sdf1.select(\"Hotel_ID\", \"Hotel_Address\", \"Hotel_Description\"),on=\"Hotel_ID\",how=\"left\")"
   ]
  },
  {
   "cell_type": "code",
   "execution_count": 181,
   "id": "154b5c5d",
   "metadata": {},
   "outputs": [
    {
     "name": "stdout",
     "output_type": "stream",
     "text": [
      "+--------+-------------+-----------+----------------+--------------------+-----+-----------------+--------------------+--------------------+-------------------+----------+----+----------+-------------------+--------------------+--------------------+---------+--------------------+--------------------+\n",
      "|Hotel_ID|Reviewer_Name|Nationality|      Group_Name|           Room_Type|Score|      Score_Level|               Title|                Body|        Review_Date|Hotel_Name|Days|Month_Stay|Mean_Reviewer_Score|      Review_ID_real|          Body_clean|non_vi_en|       Hotel_Address|   Hotel_Description|\n",
      "+--------+-------------+-----------+----------------+--------------------+-----+-----------------+--------------------+--------------------+-------------------+----------+----+----------+-------------------+--------------------+--------------------+---------+--------------------+--------------------+\n",
      "|   10_12|      William|      Na Uy|Du lịch một mình|Phòng Senior Delu...|  9.2|Trên cả tuyệt vời|    Great location ”|The room is clean...|2023-05-18 00:00:00|Sata Hotel|   2|         5|  9.414207650273223|10_12_William_Na ...|       clean. money.|    false|24E Nguyen Thien ...|Khám phá Sata Hot...|\n",
      "|   10_12|           An|   Việt Nam|Du lịch một mình|Phòng Superior hư...|  9.2|Trên cả tuyệt vời|Great deal & grea...|A good Hotel in N...|2023-05-04 00:00:00|Sata Hotel|   2|         5|  9.414207650273223|10_12_An_Việt Nam...|city, placed with...|    false|24E Nguyen Thien ...|Khám phá Sata Hot...|\n",
      "|   10_12|      Motherk|   Botswana|         Cặp đôi|Phòng Superior hư...|  9.2|Trên cả tuyệt vời|  Trên cả tuyệt vời”|Helpful staff, ve...|2023-05-04 00:00:00|Sata Hotel|   2|         4|  9.414207650273223|10_12_Motherk_Bot...|staff, clean, pri...|    false|24E Nguyen Thien ...|Khám phá Sata Hot...|\n",
      "|   10_12|         YOJI|   Nhật Bản|         Cặp đôi|Phòng Senior Delu...| 10.0|Trên cả tuyệt vời|Easy to access to...|We liked this hot...|2023-05-03 00:00:00|Sata Hotel|   3|         4|  9.414207650273223|10_12_YOJI_Nhật B...|liked thus extend...|    false|24E Nguyen Thien ...|Khám phá Sata Hot...|\n",
      "|   10_12|        Karen|         Úc|         Cặp đôi|Phòng Senior Delu...|  8.0|        Tuyệt vời|        Great hotel”|We had a room wit...|2023-04-11 00:00:00|Sata Hotel|   4|         4|  9.414207650273223|10_12_Karen_Úc_20...|with partial spec...|    false|24E Nguyen Thien ...|Khám phá Sata Hot...|\n",
      "+--------+-------------+-----------+----------------+--------------------+-----+-----------------+--------------------+--------------------+-------------------+----------+----+----------+-------------------+--------------------+--------------------+---------+--------------------+--------------------+\n",
      "only showing top 5 rows\n",
      "\n"
     ]
    }
   ],
   "source": [
    "sdf3.show(5)"
   ]
  },
  {
   "cell_type": "code",
   "execution_count": 182,
   "id": "fc08cf40",
   "metadata": {},
   "outputs": [],
   "source": [
    "from pyspark.ml.feature import Tokenizer, StopWordsRemover, HashingTF, IDF\n",
    "from pyspark.ml import Pipeline\n",
    "from pyspark.sql.functions import monotonically_increasing_id\n",
    "from pyspark.ml.feature import StringIndexer\n",
    "from pyspark.sql.functions import col"
   ]
  },
  {
   "cell_type": "code",
   "execution_count": 183,
   "id": "a71c49f9",
   "metadata": {},
   "outputs": [],
   "source": [
    "# Map nationality\n",
    "user_indexer = StringIndexer(inputCol=\"Nationality\", outputCol=\"nationality_id\")\n",
    "user_indexer_model = user_indexer.fit(sdf3)\n",
    "sdf3 = user_indexer_model.transform(sdf3)"
   ]
  },
  {
   "cell_type": "code",
   "execution_count": 184,
   "id": "7050cc9c",
   "metadata": {},
   "outputs": [],
   "source": [
    "# Map hotel\n",
    "hotel_indexer = StringIndexer(inputCol=\"Hotel_ID\", outputCol=\"hotel_numeric_id\")\n",
    "hotel_indexer_model = hotel_indexer.fit(sdf3)\n",
    "sdf3 = hotel_indexer_model.transform(sdf3)"
   ]
  },
  {
   "cell_type": "code",
   "execution_count": 185,
   "id": "d6f5cba7",
   "metadata": {},
   "outputs": [],
   "source": [
    "sdf_cf = sdf3.select(\n",
    "    \"nationality_id\",     # user\n",
    "    \"hotel_numeric_id\",    # item\n",
    "    \"Score\",               # rating\n",
    "    \"Body_clean\",          # nội dung review\n",
    "    \"Hotel_Description\"    # thông tin khách sạn\n",
    ")"
   ]
  },
  {
   "cell_type": "code",
   "execution_count": 186,
   "id": "0a037775",
   "metadata": {},
   "outputs": [
    {
     "name": "stdout",
     "output_type": "stream",
     "text": [
      "root\n",
      " |-- nationality_id: double (nullable = false)\n",
      " |-- hotel_numeric_id: double (nullable = false)\n",
      " |-- Score: double (nullable = true)\n",
      " |-- Body_clean: string (nullable = true)\n",
      " |-- Hotel_Description: string (nullable = true)\n",
      "\n"
     ]
    }
   ],
   "source": [
    "sdf_cf.printSchema()"
   ]
  },
  {
   "cell_type": "code",
   "execution_count": 187,
   "id": "f36728b0",
   "metadata": {},
   "outputs": [],
   "source": [
    "sdf_cf = sdf_cf.withColumn(\"nationality_id\", col(\"nationality_id\").cast(\"int\"))\n",
    "sdf_cf = sdf_cf.withColumn(\"hotel_numeric_id\", col(\"hotel_numeric_id\").cast(\"int\"))"
   ]
  },
  {
   "cell_type": "code",
   "execution_count": 188,
   "id": "e388195f",
   "metadata": {},
   "outputs": [],
   "source": [
    "train, test = sdf_cf.randomSplit([0.8, 0.2], seed=42)"
   ]
  },
  {
   "cell_type": "code",
   "execution_count": 189,
   "id": "a175648e",
   "metadata": {},
   "outputs": [
    {
     "name": "stdout",
     "output_type": "stream",
     "text": [
      "Train count: 14063\n",
      "Test count: 3449\n"
     ]
    }
   ],
   "source": [
    "print(\"Train count:\", train.count())\n",
    "print(\"Test count:\", test.count())"
   ]
  },
  {
   "cell_type": "code",
   "execution_count": 190,
   "id": "ad26e373",
   "metadata": {},
   "outputs": [],
   "source": [
    "als = ALS(\n",
    "    userCol=\"nationality_id\",\n",
    "    itemCol=\"hotel_numeric_id\",\n",
    "    ratingCol=\"Score\",\n",
    "    implicitPrefs=False,\n",
    "    coldStartStrategy=\"drop\",\n",
    "    rank=20,\n",
    "    maxIter=10,\n",
    "    regParam=0.1\n",
    ")"
   ]
  },
  {
   "cell_type": "code",
   "execution_count": 191,
   "id": "84019949",
   "metadata": {},
   "outputs": [],
   "source": [
    "als_model = als.fit(train)\n",
    "als_predictions = als_model.transform(test)"
   ]
  },
  {
   "cell_type": "code",
   "execution_count": 193,
   "id": "cc67aa8e",
   "metadata": {},
   "outputs": [
    {
     "name": "stdout",
     "output_type": "stream",
     "text": [
      "+--------------+----------------+-----+----------+\n",
      "|nationality_id|hotel_numeric_id|Score|prediction|\n",
      "+--------------+----------------+-----+----------+\n",
      "|0             |148             |8.0  |9.468437  |\n",
      "|0             |148             |8.8  |9.468437  |\n",
      "|0             |148             |10.0 |9.468437  |\n",
      "|0             |148             |10.0 |9.468437  |\n",
      "|0             |148             |10.0 |9.468437  |\n",
      "|0             |148             |10.0 |9.468437  |\n",
      "|4             |148             |10.0 |9.074545  |\n",
      "|0             |31              |7.2  |8.980207  |\n",
      "|0             |31              |7.2  |8.980207  |\n",
      "|0             |31              |7.6  |8.980207  |\n",
      "+--------------+----------------+-----+----------+\n",
      "only showing top 10 rows\n",
      "\n"
     ]
    }
   ],
   "source": [
    "als_predictions.select(\"nationality_id\",\"hotel_numeric_id\",\"Score\",\"prediction\").show(10, False)"
   ]
  },
  {
   "cell_type": "code",
   "execution_count": 194,
   "id": "109109ae",
   "metadata": {},
   "outputs": [],
   "source": [
    "from pyspark.ml.evaluation import RegressionEvaluator"
   ]
  },
  {
   "cell_type": "code",
   "execution_count": 197,
   "id": "860ca0db",
   "metadata": {},
   "outputs": [],
   "source": [
    "evaluator = RegressionEvaluator(\n",
    "    metricName=\"rmse\",\n",
    "    labelCol=\"Score\",\n",
    "    predictionCol=\"prediction\"\n",
    ")"
   ]
  },
  {
   "cell_type": "code",
   "execution_count": 198,
   "id": "56170b00",
   "metadata": {},
   "outputs": [
    {
     "data": {
      "text/plain": [
       "0.9877484755582976"
      ]
     },
     "execution_count": 198,
     "metadata": {},
     "output_type": "execute_result"
    }
   ],
   "source": [
    "rmse = evaluator.evaluate(als_predictions)\n",
    "rmse"
   ]
  },
  {
   "cell_type": "code",
   "execution_count": 212,
   "id": "1b3a318f",
   "metadata": {},
   "outputs": [],
   "source": [
    "from pyspark.sql import functions as F"
   ]
  },
  {
   "cell_type": "code",
   "execution_count": 210,
   "id": "a5522859",
   "metadata": {},
   "outputs": [],
   "source": [
    "def recommend_hotels_by_ALS(als_model, sdf, nationality_id, top_k=10):\n",
    "    # Lấy danh sách khách sạn (distinct)\n",
    "    hotels_df = sdf.select(\"hotel_numeric_id\", \"Hotel_ID\", \"Hotel_Name\", \"Hotel_Address\").distinct()\n",
    "    \n",
    "    # Gắn user_id vào để predict\n",
    "    user_df = hotels_df.withColumn(\"nationality_id\", F.lit(nationality_id))\n",
    "    \n",
    "    # Dự đoán bằng ALS\n",
    "    predictions = als_model.transform(user_df)\n",
    "    \n",
    "    # Lọc prediction != null, lấy top-k\n",
    "    result = predictions.filter(col(\"prediction\").isNotNull()) \\\n",
    "                        .orderBy(col(\"prediction\").desc()) \\\n",
    "                        .limit(top_k)\n",
    "    \n",
    "    return result.select(\"Hotel_ID\", \"Hotel_Name\", \"Hotel_Address\", \"prediction\")"
   ]
  },
  {
   "cell_type": "code",
   "execution_count": 213,
   "id": "ed4eead0",
   "metadata": {},
   "outputs": [
    {
     "name": "stdout",
     "output_type": "stream",
     "text": [
      "+--------+-----------------------------------------------------------------------------------------------------------------+-------------------------------------------------------------------------------------------------------------+----------+\n",
      "|Hotel_ID|Hotel_Name                                                                                                       |Hotel_Address                                                                                                |prediction|\n",
      "+--------+-----------------------------------------------------------------------------------------------------------------+-------------------------------------------------------------------------------------------------------------+----------+\n",
      "|28_24   |InterContinental Residences Nha Trang                                                                            |32 Tran Phu Street, Lộc Thọ, Nha Trang, Việt Nam, 650000                                                     |10.077377 |\n",
      "|8_27    |Vinpearl Luxury Nha Trang                                                                                        |Đảo Hòn Tre, Phường Vĩnh Nguyên , Hòn Tre, Nha Trang, Việt Nam, 650000                                       |10.022418 |\n",
      "|5_1     |Nomad Apartment                                                                                                  |58 Trần Phú, Lộc Thọ, Nha Trang, Việt Nam, 650000                                                            |9.965127  |\n",
      "|12_7    |Gran Meliá Nha Trang                                                                                             |Bai Tien, Duong De, Vinh Hoa Ward, Nha Trang City, Khanh Hoa Province , Vĩnh Hòa, Nha Trang, Việt Nam, 650000|9.899907  |\n",
      "|12_22   |Khách Sạn Mojzo (Mojzo Inn)                                                                                      |65/07 Nguyen Thiet Thuat- Nha Trang- Khanh hoa, Lộc Thọ, Nha Trang, Việt Nam, 650000                         |9.888357  |\n",
      "|7_29    |Căn hộ 35 m² 1 phòng ngủ, 1 phòng tắm riêng ở Biển Bãi Dài (Angela Serviced Apartment (near Airport Cam Ranh))   |The Arena Cam Ranh, Cam Nghia, Cam Ranh, Khanh Hoa, Viet Nam, Cam Hải Đông, Nha Trang, Việt Nam, 650000      |9.817557  |\n",
      "|5_14    |Realus Sea-view Apartment in Cam Ranh Nha Trang                                                                  |Nguyễn Tất Thành, Arena Cam Ranh , Cam Hải Đông, Nha Trang, Việt Nam, 57000                                  |9.817557  |\n",
      "|19_4    |Căn hộ studio 1100 m² có 1 phòng tắm riêng ở Vĩnh Phước (MCR Apartments Nha Trang)                               |Vĩnh Phước, Nha Trang, Việt Nam                                                                              |9.817557  |\n",
      "|37_28   |Biệt thự 250 m² 6 phòng ngủ, 6 phòng tắm riêng ở Cam Hải Đông (Room#102- Garden view- H2B Homestay Bai Dai Beach)|Cam Hải Đông, Nha Trang, Việt Nam                                                                            |9.817557  |\n",
      "|12_17   |The Signature Hotel Nha Trang                                                                                    |86A Trần Phú, Lộc Thọ, Lộc Thọ, Nha Trang, Việt Nam, 650000                                                  |9.817557  |\n",
      "+--------+-----------------------------------------------------------------------------------------------------------------+-------------------------------------------------------------------------------------------------------------+----------+\n",
      "\n"
     ]
    }
   ],
   "source": [
    "als_recs = recommend_hotels_by_ALS(als_model, sdf3, nationality_id=1, top_k=10)\n",
    "als_recs.show(truncate=False)"
   ]
  },
  {
   "cell_type": "markdown",
   "id": "96dd7e31",
   "metadata": {},
   "source": [
    "##### TF-IDF"
   ]
  },
  {
   "cell_type": "code",
   "execution_count": 199,
   "id": "54855c4d",
   "metadata": {},
   "outputs": [],
   "source": [
    "from pyspark.sql.functions import concat_ws, coalesce, col, lit"
   ]
  },
  {
   "cell_type": "code",
   "execution_count": 200,
   "id": "468543d0",
   "metadata": {},
   "outputs": [],
   "source": [
    "sdf_text = sdf_cf.withColumn(\n",
    "    \"text\",\n",
    "    concat_ws(\" \",\n",
    "        coalesce(col(\"Body_clean\").cast(\"string\"), lit(\"\")),\n",
    "        coalesce(col(\"Hotel_Description\").cast(\"string\"), lit(\"\"))\n",
    "    )\n",
    ")"
   ]
  },
  {
   "cell_type": "code",
   "execution_count": 201,
   "id": "76ec3ea7",
   "metadata": {},
   "outputs": [
    {
     "name": "stdout",
     "output_type": "stream",
     "text": [
      "+--------------+----------------+-----+--------------------+--------------------+--------------------+\n",
      "|nationality_id|hotel_numeric_id|Score|          Body_clean|   Hotel_Description|                text|\n",
      "+--------------+----------------+-----+--------------------+--------------------+--------------------+\n",
      "|            15|              35| 10.0|nhân viên tốt. mó...|Khách sạn Balcony...|nhân viên tốt. mó...|\n",
      "|             0|              35| 10.0|sạn giá phù hợp, ...|Khách sạn Balcony...|sạn giá phù hợp, ...|\n",
      "|             0|              35| 10.0|10 trải nghiệm sạ...|Khách sạn Balcony...|10 trải nghiệm sạ...|\n",
      "|             0|              35|  8.0|Phòng tiện mới. n...|Khách sạn Balcony...|Phòng tiện mới. n...|\n",
      "|             0|              35| 10.0|phòng sạch sẽ, lễ...|Khách sạn Balcony...|phòng sạch sẽ, lễ...|\n",
      "+--------------+----------------+-----+--------------------+--------------------+--------------------+\n",
      "only showing top 5 rows\n",
      "\n"
     ]
    }
   ],
   "source": [
    "sdf_text.show(5)"
   ]
  },
  {
   "cell_type": "code",
   "execution_count": 202,
   "id": "200b1f6f",
   "metadata": {},
   "outputs": [],
   "source": [
    "tokenizer = Tokenizer(inputCol=\"text\", outputCol=\"words\")\n",
    "remover = StopWordsRemover(inputCol=\"words\", outputCol=\"filtered\")\n",
    "hashingTF = HashingTF(inputCol=\"filtered\", outputCol=\"rawFeatures\", numFeatures=2000)\n",
    "idf = IDF(inputCol=\"rawFeatures\", outputCol=\"tfidf_features\")"
   ]
  },
  {
   "cell_type": "code",
   "execution_count": 203,
   "id": "196d0bec",
   "metadata": {},
   "outputs": [],
   "source": [
    "pipeline = Pipeline(stages=[tokenizer, remover, hashingTF, idf])\n",
    "model = pipeline.fit(sdf_text)\n",
    "sdf_tfidf = pipeline.fit(sdf_text).transform(sdf_text)"
   ]
  },
  {
   "cell_type": "markdown",
   "id": "3ba94a7e",
   "metadata": {},
   "source": [
    "##### Tính Similarity giữa Hotels (Content-based)"
   ]
  },
  {
   "cell_type": "code",
   "execution_count": 205,
   "id": "023903b8",
   "metadata": {},
   "outputs": [],
   "source": [
    "from pyspark.ml.linalg import Vectors\n",
    "from pyspark.ml.linalg import DenseVector\n",
    "from pyspark.sql.functions import col, udf\n",
    "from pyspark.sql.types import FloatType\n",
    "import numpy as np"
   ]
  },
  {
   "cell_type": "code",
   "execution_count": 206,
   "id": "5d891e53",
   "metadata": {},
   "outputs": [],
   "source": [
    "def cosine_sim(a, b):\n",
    "    return float(np.dot(a, b) / (np.linalg.norm(a) * np.linalg.norm(b))) if np.linalg.norm(a) and np.linalg.norm(b) else 0.0\n",
    "\n",
    "cosine_udf = udf(lambda x, y: cosine_sim(x.toArray(), y.toArray()), FloatType())"
   ]
  },
  {
   "cell_type": "markdown",
   "id": "59e5f1d6",
   "metadata": {},
   "source": [
    "Kết hợp ALS + TF-IDF"
   ]
  },
  {
   "cell_type": "code",
   "execution_count": 207,
   "id": "5e015244",
   "metadata": {},
   "outputs": [],
   "source": [
    "alpha = 0.7"
   ]
  },
  {
   "cell_type": "code",
   "execution_count": 208,
   "id": "e8229a96",
   "metadata": {},
   "outputs": [],
   "source": [
    "sdf_hybrid = als_predictions.join(\n",
    "    sdf_tfidf.select(\"hotel_numeric_id\", \"tfidf_features\"),\n",
    "    on=\"hotel_numeric_id\",\n",
    "    how=\"left\"\n",
    ")"
   ]
  },
  {
   "cell_type": "code",
   "execution_count": 209,
   "id": "9dc31de8",
   "metadata": {},
   "outputs": [
    {
     "name": "stdout",
     "output_type": "stream",
     "text": [
      "+----------------+--------------+-----+--------------------+--------------------+----------+--------------------+\n",
      "|hotel_numeric_id|nationality_id|Score|          Body_clean|   Hotel_Description|prediction|      tfidf_features|\n",
      "+----------------+--------------+-----+--------------------+--------------------+----------+--------------------+\n",
      "|               0|             0|  7.6|Nhân viên nhiệt t...|Maris Hotel Nha T...|  9.687291|(2000,[1,4,21,24,...|\n",
      "|               0|             0|  7.6|Nhân viên nhiệt t...|Maris Hotel Nha T...|  9.687291|(2000,[1,4,9,21,2...|\n",
      "|               0|             0|  7.6|Nhân viên nhiệt t...|Maris Hotel Nha T...|  9.687291|(2000,[1,4,21,24,...|\n",
      "|               0|             0|  7.6|Nhân viên nhiệt t...|Maris Hotel Nha T...|  9.687291|(2000,[1,4,21,24,...|\n",
      "|               0|             0|  7.6|Nhân viên nhiệt t...|Maris Hotel Nha T...|  9.687291|(2000,[1,4,21,24,...|\n",
      "+----------------+--------------+-----+--------------------+--------------------+----------+--------------------+\n",
      "only showing top 5 rows\n",
      "\n"
     ]
    }
   ],
   "source": [
    "sdf_hybrid.show(5)"
   ]
  }
 ],
 "metadata": {
  "kernelspec": {
   "display_name": "Python 3",
   "language": "python",
   "name": "python3"
  },
  "language_info": {
   "codemirror_mode": {
    "name": "ipython",
    "version": 3
   },
   "file_extension": ".py",
   "mimetype": "text/x-python",
   "name": "python",
   "nbconvert_exporter": "python",
   "pygments_lexer": "ipython3",
   "version": "3.9.13"
  }
 },
 "nbformat": 4,
 "nbformat_minor": 5
}
